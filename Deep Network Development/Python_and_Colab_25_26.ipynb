{
  "cells": [
    {
      "cell_type": "markdown",
      "metadata": {
        "id": "view-in-github",
        "colab_type": "text"
      },
      "source": [
        "<a href=\"https://colab.research.google.com/github/x3gan/elte-msc/blob/main/Deep%20Network%20Development/Python_and_Colab_25_26.ipynb\" target=\"_parent\"><img src=\"https://colab.research.google.com/assets/colab-badge.svg\" alt=\"Open In Colab\"/></a>"
      ]
    },
    {
      "cell_type": "markdown",
      "metadata": {
        "id": "bg-N-ivOMFrq"
      },
      "source": [
        "# **Python and Google Colaboratory**\n",
        "\n",
        "<div style=\"border: 3px solid #222; padding: 16px; border-radius: 10px; background-color: #1c1f26; font-family: 'Helvetica Neue', Helvetica, Arial, sans-serif; color: #e0e0e0;\">\n",
        "  <div style=\"display: flex; align-items: center; gap: 8px; margin-top: 12px;\">\n",
        "    <span style=\"font-size: 24px; color: #ff5555;\">&#128274;</span>\n",
        "    <span style=\"font-size: 16px;\"><strong>Project:</strong> Introduction</span>\n",
        "  </div>\n",
        "  <div style=\"display: flex; align-items: center; gap: 8px; margin-top: 8px;\">\n",
        "    <span style=\"font-size: 20px; color: #ff5555;\">&#128218;</span>\n",
        "    <span style=\"font-size: 16px;\"><strong>Course:</strong> Deep Network Development</span>\n",
        "  </div>\n",
        "  <div style=\"margin-top: 12px; font-size: 14px;\">\n",
        "    <span style=\"font-size: 18px; color: #6e8192;\">&#128100;</span>\n",
        "    <span style=\"font-weight: bold;\"><strong>Authors:</strong></span> Tamás Takács, Imre Molnár (PhD students, Department of Artificial Intelligence, Eötvös Loránd University)\n",
        "  </div>\n",
        "</div>\n",
        "<hr style=\"border: none; border-top: 2px solid #444;\">\n",
        "<br>\n",
        "\n",
        "<img src=\"https://i.ibb.co/0y7tXCCg/python-googlecolab-featuredimage-1.png\" alt=\"python-googlecolab-featuredimage-1\" border=\"0\">\n",
        "\n",
        "Google Colab is a cloud-based platform that allows you to write and execute Python code in interactive Jupyter notebooks, eliminating the need for local installations. It seamlessly integrates with popular Python libraries and offers free access to computational resources like GPUs and TPUs.\n"
      ]
    },
    {
      "cell_type": "code",
      "source": [
        "# @title Roadmap Generator for Python and Colab\n",
        "%%capture flowchart_output\n",
        "from graphviz import Digraph\n",
        "\n",
        "def create_python_colab_flowchart(output_filename='python_colab_flowchart'):\n",
        "    dot = Digraph(name='PythonAndColab', format='png')\n",
        "    dot.attr(rankdir='LR')  # left-to-right layout\n",
        "    dot.attr('node', shape='box', style='filled', fontsize='12', fontname='Arial')\n",
        "\n",
        "    # Define a few key nodes with a newline before the difficulty level\n",
        "    dot.node('Setup', 'Setup & Hardware Accelerator\\n(Easy)', fillcolor='#A0E7A0')\n",
        "    dot.node('Notebooks', 'Notebook Structure & Execution\\n(Easy)', fillcolor='#A0E7A0')\n",
        "    dot.node('Sharing', 'Sharing & Collaboration\\n(Easy)', fillcolor='#A0E7A0')\n",
        "    dot.node('Scripts', 'Running Python Scripts\\n(Easy)', fillcolor='#A0E7A0')\n",
        "\n",
        "    # Define the sequential flow between nodes\n",
        "    dot.edge('Setup', 'Notebooks')\n",
        "    dot.edge('Notebooks', 'Sharing')\n",
        "    dot.edge('Sharing', 'Scripts')\n",
        "\n",
        "    dot.render(output_filename, view=False)\n",
        "\n",
        "create_python_colab_flowchart('python_colab_flowchart')\n"
      ],
      "metadata": {
        "id": "Wv7qNhFppbBH"
      },
      "execution_count": null,
      "outputs": []
    },
    {
      "cell_type": "code",
      "source": [
        "from IPython.display import Image as IMG\n",
        "IMG('python_colab_flowchart.png')"
      ],
      "metadata": {
        "colab": {
          "base_uri": "https://localhost:8080/",
          "height": 76
        },
        "id": "Hug4thjXpbP8",
        "outputId": "43d50663-c3ac-441c-8e63-8451995f6068"
      },
      "execution_count": null,
      "outputs": [
        {
          "output_type": "execute_result",
          "data": {
            "image/png": "[encoded data removed]",
            "text/plain": [
              "<IPython.core.display.Image object>"
            ]
          },
          "metadata": {},
          "execution_count": 4
        }
      ]
    },
    {
      "cell_type": "markdown",
      "metadata": {
        "id": "1gRhkok5MRtp"
      },
      "source": [
        "### **Using Google Colaboratory**"
      ]
    },
    {
      "cell_type": "markdown",
      "metadata": {
        "id": "Zf4M3J_MMaNH"
      },
      "source": [
        "**We are using Python version 3.11**\n",
        "\n",
        "**Setting Google Colab to the correct version:** Edit --> Notebook Settings --> Runtime type --> Python 3\n",
        "\n",
        "Google Colab edits Jupyter notebooks which have a .ipynb extension. A Jupyter notebook is made up of code blocks and text blocks. The code blocks can be run one at a time or all at once.\n",
        "\n",
        "**Running a single block:** done by clicking the button that appears in the top left corner of the block after selecting it (or by selecting the block and pressing Ctrl+Enter).\n",
        "\n",
        "**Running the entire notebook:** done by clicking 'Run all' under the Runtime menu (or pressing Ctrl+F9).\n",
        "\n",
        "If a code block has any printable/plottable output (by explicit print function usage, plotting, or the result of the last standalone expression) it will appear under the block. If an error occurs during the run of a block, the notebook's evaluation stops, and the error is printed as well.\n",
        "\n",
        "The code's execution is done in a runtime environment that is automatically connected to the notebook. Its status can be seen in the top right corner, eg. \"Connected\".\n",
        "\n",
        "Much like Google Docs, a notebook can be shared with either **view only** or **can edit** permissions. If the notebook is shared with someone using the **view only** permission, then they cannot make any edits to or run the notebook. They can only see the text and code blocks with the result of the last run under each code block. Someone with the **view only** permission can, of course, copy the notebook to their own Drive and edit or run it there (File --> Save a copy in Drive). A **view only** notebook can be opened in **playground mode**: in this case, a temporary copy is made of the notebook that is editable, however, if we do not save it to our Drive before quitting, then all changes will be lost.\n",
        "\n",
        "The notebooks can be downloaded and used with a personal Jupyter runtime environment. The .ipynb files can be converted to .html files with Jupyter to be viewed offline without any runtime environment.\n",
        "\n",
        "\n",
        "**Running a Jupyter notebook**\n",
        "\n",
        "Jupyter notebooks work similarly to the Python interpreter. After the notebook runs, the declared variables in its code blocks will remain as long as the runtime environment is connected. If we were to rerun a previously run block, its result can be different than when we ran it the first time. For example, if in one block we declare and define a variable with a starter value, and then in the next block we raise this value, and the latter one runs twice, the value of this variable will be different than it would be if it was run only once. The \"Runtime\" menu's \"Restart runtime\" option will **restart the runtime environment* so we can avoid such problems.\n",
        "\n",
        "**Google Colab runtime environment settings:**\n",
        "\n",
        "Google provides a graphics card for free to speed up notebooks. The graphics card acceleration however only works in libraries that use it, such as Tensorflow or PyTorch. A simple Python/Numpy code's runtime will not be changed by this function in Colab. This graphics card acceleration can be activated at: Edit --> Notebook Settings --> Hardware accelerator --> GPU.\n",
        "\n",
        "**Python cheat sheet:**\n",
        "\n",
        "https://perso.limsi.fr/pointal/_media/python:cours:mementopython3-english.pdf\n"
      ]
    },
    {
      "cell_type": "markdown",
      "metadata": {
        "id": "eyMio2S1FeE9"
      },
      "source": [
        "## **Running Python scripts**\n",
        "\n",
        "Although on these lectures we will only use the interpreter style Google Colaboratory, the simplest way of using Python is running Python script files. Script files conventionally have the '.py' extension. Running them requires a local or remote machine with an installed Python environment. On windows, WinPython and Anaconda distributions are the most common ones, and the latter is recommended. On Linux, Python 2.7 is typically part of the system, but installing Python 3 is done by using the Linux distribution's package manager (For example on Ubuntu using apt-get). A script can be run on Windows using cmd or Anaconda's command line. On Linux it can be run using a bash, like so:\n",
        "\n",
        "```\n",
        "python3 script.py\n",
        "```\n",
        "\n",
        "This will run the script, after which the run of the Python runtime environment will end too, unlike with an interpreter (such as Jupyter/Google Colab), so in this case, defined variables will not remain.\n",
        "\n"
      ]
    },
    {
      "cell_type": "markdown",
      "metadata": {
        "id": "49cwXEJpB7aM"
      },
      "source": [
        "## **Basics Comments and Print**"
      ]
    },
    {
      "cell_type": "code",
      "execution_count": null,
      "metadata": {
        "colab": {
          "base_uri": "https://localhost:8080/",
          "height": 35
        },
        "id": "FrpxJN4MCSdN",
        "outputId": "a849e7bc-9d7f-4f4d-ae1a-cc4e5f8523a7"
      },
      "outputs": [
        {
          "name": "stdout",
          "output_type": "stream",
          "text": [
            "Hello World!\n"
          ]
        },
        {
          "data": {
            "text/plain": [
              "8"
            ]
          },
          "execution_count": 1,
          "metadata": {},
          "output_type": "execute_result"
        }
      ],
      "source": [
        "# this is a comment\n",
        "\n",
        "# Ctrl+/ for multi line comment\n",
        "\n",
        "'''\n",
        "A block comment.\n",
        "'''\n",
        "\n",
        "\n",
        "print(\"Hello World!\")\n",
        "4+7\n",
        "3+5  # result of the last standalone expression is automatically printed"
      ]
    },
    {
      "cell_type": "markdown",
      "metadata": {
        "id": "sw3SJQG7D9b1"
      },
      "source": [
        "### **Numbers and variables**\n",
        "\n",
        "**Variables in Python:**\n",
        "In Python, the type of variables is not bound and does not need an explicit declaration. Variables always store the memory address of an object, so its type is the type of that object. The memory space needed to store a new object is reserved automatically, there is no need for an explicit declaration to reserve that memory.\n"
      ]
    },
    {
      "cell_type": "code",
      "execution_count": null,
      "metadata": {
        "colab": {
          "base_uri": "https://localhost:8080/",
          "height": 144
        },
        "id": "iDe0DfQbCncU",
        "outputId": "e1bc8ac7-bf4d-4dd5-b329-5fddf192a7c8",
        "scrolled": true
      },
      "outputs": [
        {
          "name": "stdout",
          "output_type": "stream",
          "text": [
            "An integer: 2\n",
            "Adding two integers: 5\n",
            "Multiplication: 24\n",
            "(Float) division: 0.6666666666666666\n",
            "(Integer) division: 0\n",
            "Modulo: 2\n",
            "Power: 1024\n"
          ]
        }
      ],
      "source": [
        "print(\"An integer:\", 2)     # printing a number\n",
        "print(\"Adding two integers:\", 2 + 3) # basic arithmetics\n",
        "print(\"Multiplication:\", 6 * 4)\n",
        "print(\"(Float) division:\", 2 / 3) # float division -> !! in Python 2.x int/int is an integer division !!\n",
        "print(\"(Integer) division:\", 2 // 3) # integer division\n",
        "print(\"Modulo:\", 20 % 3)  # modulo operator\n",
        "print(\"Power:\", 2 ** 10) # power function\n"
      ]
    },
    {
      "cell_type": "code",
      "execution_count": null,
      "metadata": {
        "colab": {
          "base_uri": "https://localhost:8080/",
          "height": 199
        },
        "id": "aXGT8PCVRcHN",
        "outputId": "14e08c2e-f781-4e1e-bbf9-c7fe74e102fa"
      },
      "outputs": [
        {
          "name": "stdout",
          "output_type": "stream",
          "text": [
            "Variables: \n",
            "Adding an integer to another integer results in an integer:  5\n",
            "Adding an integer to a floating point number (float) results in a float:  5.0\n",
            "k: 2.6\n",
            "k: 5.6\n",
            "\n",
            "Different numeric types:\n",
            "<class 'int'>\n",
            "<class 'float'>\n"
          ]
        }
      ],
      "source": [
        "print(\"Variables: \")\n",
        "\n",
        "b = 2        # assigning an integer to variable 'c'\n",
        "c = 3\n",
        "d = 3.0      # assigning a floating point number to variable 'b'\n",
        "\n",
        "print(\"Adding an integer to another integer results in an integer: \", b + c)\n",
        "print(\"Adding an integer to a floating point number (float) results in a float: \", b + d)\n",
        "\n",
        "d = 2.6      # floating point numbers\n",
        "f = 8.0\n",
        "g = 9.\n",
        "h = .2\n",
        "\n",
        "k = d\n",
        "print(\"k:\", k)\n",
        "k += c   # k=k+c    # C style +=, *=, ... exist\n",
        "print(\"k:\", k)\n",
        "\n",
        "print(\"\\nDifferent numeric types:\")\n",
        "print(type(1))\n",
        "print(type(1.2))"
      ]
    },
    {
      "cell_type": "code",
      "execution_count": null,
      "metadata": {
        "colab": {
          "base_uri": "https://localhost:8080/",
          "height": 92
        },
        "id": "6xgchUvsTpvU",
        "outputId": "4006cad5-ad98-4910-9026-d9a6d3466187"
      },
      "outputs": [
        {
          "name": "stdout",
          "output_type": "stream",
          "text": [
            "\n",
            "Python integer implementation is practically unlimited (bigint), no overflow happens:\n",
            "8225255794295796740818218362946426741228583519689825498680760619934235117895021781482959057574344507118114927892361831424\n"
          ]
        }
      ],
      "source": [
        "print(\"\\nPython integer implementation is practically unlimited (bigint), no overflow happens:\")\n",
        "\n",
        "s = 1234567787978\n",
        "print(s ** 10)\n"
      ]
    },
    {
      "cell_type": "markdown",
      "metadata": {
        "id": "jPBBxeF5UZvV"
      },
      "source": [
        "### **Strings**"
      ]
    },
    {
      "cell_type": "code",
      "execution_count": null,
      "metadata": {
        "colab": {
          "base_uri": "https://localhost:8080/",
          "height": 217
        },
        "id": "Vw-HrGCXKhmm",
        "outputId": "e87c2e1d-c00b-4f42-ceba-a18565a43b51"
      },
      "outputs": [
        {
          "name": "stdout",
          "output_type": "stream",
          "text": [
            "string 1\n",
            "string 2\n",
            "\n",
            "poem line#1\n",
            "poem line#2\n",
            "\n",
            "heyho\n",
            "string are just \"strings\", also strings are 'immutable'\n",
            "\n",
            "Multiplication: \n",
            "string are just \"strings\",string are just \"strings\",\n"
          ]
        }
      ],
      "source": [
        "# In Python strings can be specified in many ways,\n",
        "#   but they all instantiate objects of the same str class\n",
        "\n",
        "print(\"string 1\") # double quoted string\n",
        "print('string 2') # single quoted string, same as the two above\n",
        "\n",
        "print('''\n",
        "poem line#1\n",
        "poem line#2\n",
        "''')  # multiple lined string\n",
        "\n",
        "print('''hey''' + \"ho\") # the usual string operations work, e.g. concatenation, more on them later\n",
        "\n",
        "j = 'string are just \"strings\",'\n",
        "h = \" also strings are 'immutable'\" # you can't change a string's value, only the reference to the string\n",
        "f = j + h # String concatenation\n",
        "print(f)\n",
        "\n",
        "print(\"\\nMultiplication: \")\n",
        "ff = j*2\n",
        "print(ff)"
      ]
    },
    {
      "cell_type": "markdown",
      "metadata": {
        "id": "sAB_GNK2M8UI"
      },
      "source": [
        "### **Logical expressions**"
      ]
    },
    {
      "cell_type": "code",
      "execution_count": null,
      "metadata": {
        "colab": {
          "base_uri": "https://localhost:8080/",
          "height": 297
        },
        "id": "rizEz4oSM8r3",
        "outputId": "a78609a4-f211-4c2c-e6ed-a133c1c9f767"
      },
      "outputs": [
        {
          "name": "stdout",
          "output_type": "stream",
          "text": [
            "Boolean operators: \n",
            "True and False: False\n",
            "True or False: True\n",
            "not False: True\n",
            "The type of True:  <class 'bool'> \n",
            "\n",
            "Three is greater than two: True\n",
            "More complex expression: True\n",
            "3 equals 3: True\n",
            "3 does not equal 3: False \n",
            "\n",
            "String operator '==' compares contents:  True\n",
            "String operator '==' compares contents:  True\n",
            "Operator 'is' tells whether they are the same object:  True\n",
            "Operator 'is' tells whether they are the same object:  False\n"
          ]
        }
      ],
      "source": [
        "print(\"Boolean operators: \")\n",
        "print(\"True and False:\", True and False) # Python Booleans are True and False\n",
        "print(\"True or False:\", True or False) # or keyword\n",
        "print(\"not False:\", not False) # not keyword\n",
        "print(\"The type of True: \", type(True), '\\n')\n",
        "\n",
        "print(\"Three is greater than two:\", 3 > 2) # value inequality check\n",
        "print(\"More complex expression:\", 1 < 2 <= 3) # a<b<c => (a<b) and (b<c)\n",
        "# a and b and c (a and b) and (b and c); a or b or c => (a or b) and (b or c)\n",
        "print(\"3 equals 3:\", 3 == 3) # value equality check\n",
        "print(\"3 does not equal 3:\", 3 != 3, '\\n') # value inequality check\n",
        "\n",
        "string1 = 'this is the comparable string'\n",
        "string2 = string1   # string2 and string1 variables refer to the same object from now\n",
        "string3 = 'this is the comparable string'\n",
        "print(\"String operator '==' compares contents: \", string1 == string2)\n",
        "print(\"String operator '==' compares contents: \", string1 == string3)\n",
        "print(\"Operator 'is' tells whether they are the same object: \", string1 is string2)\n",
        "print(\"Operator 'is' tells whether they are the same object: \", string1 is string3)"
      ]
    },
    {
      "cell_type": "markdown",
      "metadata": {
        "id": "lu2rcgg0SZBP"
      },
      "source": [
        "### *`NoneType` type**\n",
        "\n"
      ]
    },
    {
      "cell_type": "code",
      "execution_count": null,
      "metadata": {
        "colab": {
          "base_uri": "https://localhost:8080/",
          "height": 90
        },
        "id": "iOya98QjSatV",
        "outputId": "13e650f0-9894-4637-8c2f-00ee9a7cb733"
      },
      "outputs": [
        {
          "name": "stdout",
          "output_type": "stream",
          "text": [
            "None\n",
            "True\n",
            "False\n",
            "<class 'NoneType'>\n"
          ]
        }
      ],
      "source": [
        "a = None\n",
        "print(a)\n",
        "print(a is None)  # the None literal is a singleton object\n",
        "print(a is not None)  # the 'is not' expression is a single operator (negation of 'is')\n",
        "\n",
        "print(type(None))"
      ]
    },
    {
      "cell_type": "markdown",
      "metadata": {
        "id": "6wipI71FYR-A"
      },
      "source": [
        "## **Lists**\n",
        "\n",
        "The list can contain any arbitrary objects, even with mixed types.\n",
        "\n",
        "Documentation: https://docs.python.org/3/tutorial/datastructures.html\n",
        "\n",
        "**Features of the Python list type:**\n",
        "\n",
        "The Python list in the default Python implementation (CPython) is a pointer array written in C. Its size grows dynamically: if the list's size reaches the size of the allocated memory, then a new, larger memory space will be allocated and the old pointers will be copied over to the new space.\n",
        "\n",
        "Since the list is implemented as an array, the time complexity of accessing and overwriting an element is O(1), so it takes constant time. Adding an element to the end (`append(), extend()`) and deleting from the end (`pop(-1)`) takes constant time, not counting the case in which the allocated memory space gets full. Inserting or deleting the first item or one somewhere in the middle will have a time complexity of O(n) because these are not linked lists: every item, behind the inserted or deleted one in the middle, will need to be moved forwards or backwards."
      ]
    },
    {
      "cell_type": "code",
      "execution_count": null,
      "metadata": {
        "colab": {
          "base_uri": "https://localhost:8080/",
          "height": 126
        },
        "id": "q-iXpwrkTIMw",
        "outputId": "18290933-7cb5-40f5-cdc9-7e5741361982"
      },
      "outputs": [
        {
          "name": "stdout",
          "output_type": "stream",
          "text": [
            "A simple list. Elements may have different types: [1, 'abc', None, False]\n",
            "An empty list: [] \n",
            "\n",
            "A copy of my_list: [1, 'abc', None, False]\n",
            "Is copied_list the same object as my_list?  False\n",
            "Lists can contain any type of objects, other lists as well:  [[2, 3], ['r', []], 'a', [None]]\n"
          ]
        }
      ],
      "source": [
        "my_list = [1, \"abc\", None, False]\n",
        "print(\"A simple list. Elements may have different types:\", my_list)\n",
        "\n",
        "empty_list = []\n",
        "print(\"An empty list:\", empty_list, '\\n')\n",
        "\n",
        "copied_list = list(my_list)\n",
        "print(\"A copy of my_list:\", copied_list)\n",
        "print(\"Is copied_list the same object as my_list? \", copied_list is my_list)\n",
        "\n",
        "jagged_list = [[2,3], ['r',[]], 'a', [None]]\n",
        "print(\"Lists can contain any type of objects, other lists as well: \", jagged_list)"
      ]
    },
    {
      "cell_type": "code",
      "execution_count": null,
      "metadata": {
        "colab": {
          "base_uri": "https://localhost:8080/",
          "height": 126
        },
        "id": "3SXoFRCQZ2nI",
        "outputId": "2cb88e5a-70d8-4666-f8ed-2548347011ce"
      },
      "outputs": [
        {
          "name": "stdout",
          "output_type": "stream",
          "text": [
            "\n",
            "Indexing a list: \n",
            "A basic list: [1, 2, 3, 4, 5]\n",
            "Element at index 2 in the basic list (third element): 3\n",
            "2nd element counting from the back of the basic list: 4\n",
            "5 is the length of the jagged list:  [1, 2, 3, 4, 5]\n"
          ]
        }
      ],
      "source": [
        "print(\"\\nIndexing a list: \")\n",
        "basic_list = [1,2,3,4,5]\n",
        "print(\"A basic list:\", basic_list)\n",
        "print(\"Element at index 2 in the basic list (third element):\", basic_list[2])\n",
        "                                  # Indexing starts with ZERO and goes to length-1\n",
        "\n",
        "print(\"2nd element counting from the back of the basic list:\", basic_list[-2])\n",
        "                                  # Negative index ''-k' corresponds to length-k\n",
        "\n",
        "length = len(basic_list) # this is a function returning an int, the length of the given list\n",
        "print(length, 'is the length of the jagged list: ', basic_list)\n"
      ]
    },
    {
      "cell_type": "code",
      "execution_count": null,
      "metadata": {
        "colab": {
          "base_uri": "https://localhost:8080/",
          "height": 144
        },
        "id": "SIQp55hhYTwn",
        "outputId": "49e7340b-7962-4b93-bbe5-f22bc13ac6ad"
      },
      "outputs": [
        {
          "name": "stdout",
          "output_type": "stream",
          "text": [
            "\n",
            "Methods of the list class:\n",
            "Appended one element to the end:  [1, 2, 3, 4, 5, 3]\n",
            "Appended one element (a list with a length of two) to the end:  [1, 2, 3, 4, 5, 3, [3, 4]]\n",
            "Extended the list with two elements:  [1, 2, 3, 4, 5, 3, [3, 4], 3, 4]\n",
            "Inserted an element to the front of the list (index 0):  [None, 1, 2, 3, 4, 5, 3, [3, 4], 3, 4]\n",
            "Inserted an element to the back of the list (index -1):  [None, 1, 2, 3, 4, 5, 3, [3, 4], 3, None, 4]\n"
          ]
        }
      ],
      "source": [
        "print(\"\\nMethods of the list class:\")\n",
        "\n",
        "basic_list.append(3)\n",
        "print(\"Appended one element to the end: \", basic_list)\n",
        "\n",
        "basic_list.append([3, 4])\n",
        "print(\"Appended one element (a list with a length of two) to the end: \", basic_list)\n",
        "\n",
        "basic_list.extend([3, 4])\n",
        "print(\"Extended the list with two elements: \", basic_list)\n",
        "\n",
        "basic_list.insert(0, None)\n",
        "print(\"Inserted an element to the front of the list (index 0): \", basic_list)\n",
        "\n",
        "basic_list.insert(-1, None)\n",
        "print(\"Inserted an element to the back of the list (index -1): \", basic_list)\n"
      ]
    },
    {
      "cell_type": "markdown",
      "metadata": {
        "id": "rCoimdOdbz1Z"
      },
      "source": [
        "Other list methods:\n",
        "\n",
        "`pop(), remove(), clear(), sort(), ...`"
      ]
    },
    {
      "cell_type": "code",
      "execution_count": null,
      "metadata": {
        "colab": {
          "base_uri": "https://localhost:8080/",
          "height": 255
        },
        "id": "STo1DAs-bdiR",
        "outputId": "a150b45e-6513-4f99-8db5-b2366cabce41"
      },
      "outputs": [
        {
          "name": "stdout",
          "output_type": "stream",
          "text": [
            "\n",
            "Slice and stride: \n",
            "The original list:  [0, 1, 2, 3, 4, 5]\n",
            "From idx 2 to idx 4 (exclusive):  [2, 3]\n",
            "From idx 2 to idx 4 (exclusive) with step size 2:  [2]\n",
            "From idx 2 to the end:  [2, 3, 4, 5]\n",
            "From the beginning till idx 2 (exclusive):  [0, 1] \n",
            "\n",
            "Whole list with step size 2:  [0, 2, 4]\n",
            "Reversed list:  [5, 4, 3, 2, 1, 0]\n",
            "Reversed list with step size 2:  [5, 3, 1]\n",
            "Reversed list with step size 2, starting from second but last element towards the beginning:  [4, 2, 0]\n"
          ]
        }
      ],
      "source": [
        "\n",
        "print(\"\\nSlice and stride: \")\n",
        "# Format of list slicing: my_list[from:to:step]\n",
        "#   iteration goes from 'from' (inclusive) to 'to' (exclusive) with a step size of 'step'\n",
        "#   second colon (':') and any of 'from', 'to' or 'step' can be omitted\n",
        "\n",
        "my_list = [0,1,2,3,4,5]\n",
        "print(\"The original list: \", my_list)\n",
        "print(\"From idx 2 to idx 4 (exclusive): \", my_list[2:4])\n",
        "print(\"From idx 2 to idx 4 (exclusive) with step size 2: \", my_list[2:4:2])\n",
        "print(\"From idx 2 to the end: \", my_list[2:])\n",
        "print(\"From the beginning till idx 2 (exclusive): \", my_list[:2], '\\n')\n",
        "\n",
        "print(\"Whole list with step size 2: \", my_list[::2])\n",
        "print(\"Reversed list: \", my_list[::-1])\n",
        "print(\"Reversed list with step size 2: \", my_list[::-2])\n",
        "print(\"Reversed list with step size 2, starting\"\\\n",
        "            \" from second but last element towards the beginning: \", my_list[-2::-2])\n",
        "\n",
        "# when slicing the reversed list, the 'from' marks the latter index and\n",
        "# 'to' is the smaller one, closer to the front as we iterate in the opposite direction"
      ]
    },
    {
      "cell_type": "code",
      "execution_count": null,
      "metadata": {
        "colab": {
          "base_uri": "https://localhost:8080/",
          "height": 162
        },
        "id": "3dja19QkecME",
        "outputId": "4b25182e-634e-42b8-b16d-4a71ca3954a4"
      },
      "outputs": [
        {
          "name": "stdout",
          "output_type": "stream",
          "text": [
            "When slicing, out of range indices will not raise an error:  [0, 1, 2, 3, 4, 5]\n",
            "When slicing, out of range indices will not raise an error:  []\n",
            "\n",
            "String is also a sequence type:\n",
            "c\n",
            "f\n",
            "abcd\n",
            "edc\n"
          ]
        }
      ],
      "source": [
        "print(\"When slicing, out of range indices will not raise an error: \", my_list[:8])\n",
        "print(\"When slicing, out of range indices will not raise an error: \", my_list[7:8])\n",
        "\n",
        "# indexing with a single out of range index would of course cause an error\n",
        "\n",
        "print(\"\\nString is also a sequence type:\")\n",
        "s = 'abcdef'\n",
        "print(s[2])\n",
        "print(s[-1])\n",
        "print(s[:4])\n",
        "print(s[-2:1:-1])"
      ]
    },
    {
      "cell_type": "markdown",
      "metadata": {
        "id": "sqPZ4v9LvfWP"
      },
      "source": [
        "## **If/else statements, loops, the `pass` keyword**\n",
        "\n",
        "Python blocks are indicated using whitespace characters: after `for, while, if, else, elif` an indented block must follow. Indentation means adding to the number of whitespace characters at the beginning of the line. Each statement in a block must start its line with the same amount of whitespace characters. A whitespace character can be a tabulation or space, but they cannot be mixed. (Google Colab replaces tabs with spaces)."
      ]
    },
    {
      "cell_type": "code",
      "execution_count": null,
      "metadata": {
        "colab": {
          "base_uri": "https://localhost:8080/",
          "height": 108
        },
        "id": "hers8OP-w_zY",
        "outputId": "4aa986ac-047c-435f-aaee-85acb1508c27"
      },
      "outputs": [
        {
          "name": "stdout",
          "output_type": "stream",
          "text": [
            "\n",
            "If statements: \n",
            "1\n",
            "2\n",
            "5\n",
            "7\n"
          ]
        }
      ],
      "source": [
        "\n",
        "print(\"\\nIf statements: \")\n",
        "ch = 'a'\n",
        "if ch == 'a':\n",
        "    print(1)\n",
        "\n",
        "if ch == 'a':\n",
        "  print(2)\n",
        "elif ch == 'a':\n",
        "  print(3)\n",
        "\n",
        "if ch == 'b':\n",
        "  print(4)\n",
        "else:\n",
        "  print(5)\n",
        "\n",
        "if ch == 'd':\n",
        "  print(6)\n",
        "elif ch == 'a':\n",
        "  print(7)\n",
        "else:\n",
        "  print(8)"
      ]
    },
    {
      "cell_type": "code",
      "execution_count": null,
      "metadata": {
        "colab": {
          "base_uri": "https://localhost:8080/",
          "height": 253
        },
        "id": "WDxM74C6gguD",
        "outputId": "1f4c833a-1a17-4c6d-c50b-8cb1e2ceb52f"
      },
      "outputs": [
        {
          "name": "stdout",
          "output_type": "stream",
          "text": [
            "\n",
            "For loop with the range() built-in function: \n",
            "   2\n",
            "   4\n",
            "   6\n",
            "\n",
            "Sum is  190\n",
            "\n",
            "Iterating over elements of a list: \n",
            "   hello\n",
            "   None\n",
            "   22\n",
            "   2\n"
          ]
        }
      ],
      "source": [
        "print(\"\\nFor loop with the range() built-in function: \")\n",
        "for i1 in range(2,7,2): # simple ranged for iterating through the range object\n",
        "    print('  ', i1)\n",
        "\n",
        "sum = 0\n",
        "for k in range(20): # summation with for\n",
        "    sum += k\n",
        "print(\"\\nSum is \", sum)\n",
        "\n",
        "# range() is a built-in function which returns an iterator over integers\n",
        "#   range(to) will iterate from 0 (inclusive) until 'to' (exclusive)\n",
        "#   range(from, to) will iterate from 'from' (inclusive) until 'to' (exclusive)\n",
        "#   range(from, to, step), similar as in list slicing\n",
        "\n",
        "# Warning! In Python 2.x range() returned a list, not an iterator.\n",
        "\n",
        "print(\"\\nIterating over elements of a list: \")\n",
        "my_list = ['hello', None, '22', 2]\n",
        "for item in my_list:\n",
        "    print('  ', item)\n",
        "\n"
      ]
    },
    {
      "cell_type": "code",
      "execution_count": null,
      "metadata": {
        "colab": {
          "base_uri": "https://localhost:8080/",
          "height": 181
        },
        "id": "Drn_44DTgx0j",
        "outputId": "1ab0d960-5cba-4712-8425-29c4d0aedbc5"
      },
      "outputs": [
        {
          "name": "stdout",
          "output_type": "stream",
          "text": [
            "\n",
            "While loop: \n",
            "   0\n",
            "   1\n",
            "   2\n",
            "   3\n",
            "   4\n",
            "\n",
            "Pass is the empty statement\n",
            "\n",
            "Pass is the empty statement\n",
            "\n",
            "Pass is the empty statement\n"
          ]
        }
      ],
      "source": [
        "print(\"\\nWhile loop: \")\n",
        "i = 0\n",
        "while(i < 5):\n",
        "    print('  ', i)\n",
        "    i +=1\n",
        "\n",
        "for i in range(3):\n",
        "    print('\\nPass is the empty statement')\n",
        "    pass    # do nothing: empty indented block results in a syntax error\n",
        "            #    this is why 'pass' exists\n"
      ]
    },
    {
      "cell_type": "markdown",
      "source": [
        "### **HOMEWORK (Optional)**\n",
        "\n",
        "- **Exercise 1: String Manipulation and Formatting**  \n",
        "  Write a program that asks the user to input their full name. Then, print the name in all uppercase letters, all lowercase letters, and in title case. As an additional challenge, count and display the number of vowels in the name.\n",
        "\n",
        "- **Exercise 2: List Operations and Slicing**  \n",
        "  Create a list of numbers from 1 to 20. Your task is to extract and print a sublist of even numbers, reverse the list and print the reversed version, insert a new number at the beginning and at the end of the list, and finally remove a specific number (e.g., 10) from the list.\n",
        "\n",
        "- **Exercise 3: Control Structures – Loops and Conditionals**  \n",
        "  Write a program that iterates through a list of words (for example, a list of fruits). For each word, print the word. Additionally, if a word contains more than 5 letters, print that word in reverse.\n",
        "\n",
        "- **Exercise 4: Dictionary and Set Operations**  \n",
        "  Create a dictionary that maps several fruits to their prices. Then, write a function that takes a fruit name as input and returns its price. Next, display all fruits that have prices above a specified threshold, and convert the dictionary keys into a set to perform a union with another set of fruits.\n",
        "\n",
        "- **Exercise 5: Basic File I/O**  \n",
        "  Create a text file named `data.txt` containing multiple lines of text. Write a program that reads this file, counts the number of lines, words, and characters, and prints these counts.\n",
        "\n",
        "- **Exercise 6: Basic Data Analysis with Lists**  \n",
        "  Generate a list of 50 random integers between 1 and 100. Calculate and print the mean, median, and mode of the list, and identify and print the highest and lowest numbers."
      ],
      "metadata": {
        "id": "gYcKkGakbsw6"
      }
    },
    {
      "cell_type": "markdown",
      "source": [
        "**Exercise 1: String Manipulation and Formatting**<br>\n",
        "Write a program that asks the user to input their full name. Then, print the name in all uppercase letters, all lowercase letters, and in title case. As an additional challenge, count and display the number of vowels in the name."
      ],
      "metadata": {
        "id": "NovHPYMWaIX9"
      }
    },
    {
      "cell_type": "code",
      "source": [
        "name = input('Gimme ur name:')\n",
        "print(name.lower())\n",
        "print(name.upper())\n",
        "print(name.title())\n",
        "\n",
        "vow_set = ['a', 'e', 'i', 'o', 'u']\n",
        "\n",
        "out_vow = []\n",
        "\n",
        "for l in name:\n",
        "  if l in vow_set:\n",
        "    out_vow.append(l)\n",
        "\n",
        "print(len(out_vow))\n",
        "print(out_vow)"
      ],
      "metadata": {
        "id": "VU31LHxgaHb8",
        "outputId": "365c0043-9f2d-4426-8345-d6cd4fbfc94c",
        "colab": {
          "base_uri": "https://localhost:8080/"
        }
      },
      "execution_count": null,
      "outputs": [
        {
          "output_type": "stream",
          "name": "stdout",
          "text": [
            "Gimme ur name:Ambrus Lili\n",
            "ambrus lili\n",
            "AMBRUS LILI\n",
            "Ambrus Lili\n",
            "3\n",
            "['u', 'i', 'i']\n"
          ]
        }
      ]
    },
    {
      "cell_type": "markdown",
      "source": [
        "**Exercise 2: List Operations and Slicing**<br>\n",
        "Create a list of numbers from 1 to 20. Your task is to extract and print a sublist of even numbers, reverse the list and print the reversed version, insert a new number at the beginning and at the end of the list, and finally remove a specific number (e.g., 10) from the list."
      ],
      "metadata": {
        "id": "UOX_6o6hbvEL"
      }
    },
    {
      "cell_type": "code",
      "source": [
        "l = [i for i in range(1, 21)]"
      ],
      "metadata": {
        "id": "s2AkvCJQbyNG"
      },
      "execution_count": 38,
      "outputs": []
    },
    {
      "cell_type": "code",
      "source": [
        "l"
      ],
      "metadata": {
        "id": "tr6PpYbFb6uN",
        "outputId": "9682a842-ad79-4131-ef59-27b747d8957b",
        "colab": {
          "base_uri": "https://localhost:8080/"
        }
      },
      "execution_count": 39,
      "outputs": [
        {
          "output_type": "execute_result",
          "data": {
            "text/plain": [
              "[1, 2, 3, 4, 5, 6, 7, 8, 9, 10, 11, 12, 13, 14, 15, 16, 17, 18, 19, 20]"
            ]
          },
          "metadata": {},
          "execution_count": 39
        }
      ]
    },
    {
      "cell_type": "code",
      "source": [
        "sl = [x for x in l if x % 2 == 0]"
      ],
      "metadata": {
        "id": "7KuYyKNKb_vm"
      },
      "execution_count": 40,
      "outputs": []
    },
    {
      "cell_type": "code",
      "source": [
        "sl"
      ],
      "metadata": {
        "id": "bifDje2KhvH1",
        "outputId": "7bfa6e85-92c3-4729-b0fd-900b0116dc32",
        "colab": {
          "base_uri": "https://localhost:8080/"
        }
      },
      "execution_count": 41,
      "outputs": [
        {
          "output_type": "execute_result",
          "data": {
            "text/plain": [
              "[2, 4, 6, 8, 10, 12, 14, 16, 18, 20]"
            ]
          },
          "metadata": {},
          "execution_count": 41
        }
      ]
    },
    {
      "cell_type": "code",
      "source": [
        "rsl = list(reversed(sl))"
      ],
      "metadata": {
        "id": "Xr9f_P7Nh0YM"
      },
      "execution_count": 42,
      "outputs": []
    },
    {
      "cell_type": "code",
      "source": [
        "rsl"
      ],
      "metadata": {
        "id": "tOPoivPbh4MC",
        "outputId": "25d847cd-ec2b-4d5f-fa5a-bd144b103a40",
        "colab": {
          "base_uri": "https://localhost:8080/"
        }
      },
      "execution_count": 43,
      "outputs": [
        {
          "output_type": "execute_result",
          "data": {
            "text/plain": [
              "[20, 18, 16, 14, 12, 10, 8, 6, 4, 2]"
            ]
          },
          "metadata": {},
          "execution_count": 43
        }
      ]
    },
    {
      "cell_type": "code",
      "source": [
        "rsl.insert(0, 998)"
      ],
      "metadata": {
        "id": "t3-TFHy_h47G"
      },
      "execution_count": 44,
      "outputs": []
    },
    {
      "cell_type": "code",
      "source": [
        "rsl"
      ],
      "metadata": {
        "id": "lA-YxwONh6__",
        "outputId": "d97a77ad-a250-4bf5-ad70-67e30135484b",
        "colab": {
          "base_uri": "https://localhost:8080/"
        }
      },
      "execution_count": 45,
      "outputs": [
        {
          "output_type": "execute_result",
          "data": {
            "text/plain": [
              "[998, 20, 18, 16, 14, 12, 10, 8, 6, 4, 2]"
            ]
          },
          "metadata": {},
          "execution_count": 45
        }
      ]
    },
    {
      "cell_type": "code",
      "source": [
        "rsl.insert(len(rsl), 999)"
      ],
      "metadata": {
        "id": "vYeqYZc6h74U"
      },
      "execution_count": 46,
      "outputs": []
    },
    {
      "cell_type": "code",
      "source": [
        "rsl"
      ],
      "metadata": {
        "id": "8dG-FCL5h9pf",
        "outputId": "6c6af0a3-bfd3-44f0-c46e-4c1c930b62b0",
        "colab": {
          "base_uri": "https://localhost:8080/"
        }
      },
      "execution_count": 47,
      "outputs": [
        {
          "output_type": "execute_result",
          "data": {
            "text/plain": [
              "[998, 20, 18, 16, 14, 12, 10, 8, 6, 4, 2, 999]"
            ]
          },
          "metadata": {},
          "execution_count": 47
        }
      ]
    },
    {
      "cell_type": "code",
      "source": [
        "rsl.remove(10)"
      ],
      "metadata": {
        "id": "N5DG1OJeiCdp"
      },
      "execution_count": 48,
      "outputs": []
    },
    {
      "cell_type": "code",
      "source": [
        "rsl"
      ],
      "metadata": {
        "id": "sie3zOOPiEMW",
        "outputId": "1f7eff4f-ee24-4da1-ab33-f515cc962c10",
        "colab": {
          "base_uri": "https://localhost:8080/"
        }
      },
      "execution_count": 49,
      "outputs": [
        {
          "output_type": "execute_result",
          "data": {
            "text/plain": [
              "[998, 20, 18, 16, 14, 12, 8, 6, 4, 2, 999]"
            ]
          },
          "metadata": {},
          "execution_count": 49
        }
      ]
    },
    {
      "cell_type": "markdown",
      "source": [
        "**Exercise 3: Control Structures – Loops and Conditionals**<br>\n",
        "Write a program that iterates through a list of words (for example, a list of fruits). For each word, print the word. Additionally, if a word contains more than 5 letters, print that word in reverse."
      ],
      "metadata": {
        "id": "h4nSxcachPKe"
      }
    },
    {
      "cell_type": "code",
      "source": [
        "fruits = [\"apple\", \"banana\", \"orange\", \"mango\", \"grape\", \"pineapple\", \"strawberry\", \"blueberry\", \"kiwi\", \"peach\"]\n",
        "\n",
        "for f in fruits:\n",
        "  if len(f) > 5:\n",
        "    print(\"\".join(list(reversed(f))))\n",
        "  else:\n",
        "    print(f)"
      ],
      "metadata": {
        "id": "ktf3RTwhhRoc",
        "outputId": "92a516e4-e0a6-4414-f96a-20f7ab4b731f",
        "colab": {
          "base_uri": "https://localhost:8080/"
        }
      },
      "execution_count": 35,
      "outputs": [
        {
          "output_type": "stream",
          "name": "stdout",
          "text": [
            "apple\n",
            "ananab\n",
            "egnaro\n",
            "mango\n",
            "grape\n",
            "elppaenip\n",
            "yrrebwarts\n",
            "yrrebeulb\n",
            "kiwi\n",
            "peach\n"
          ]
        }
      ]
    }
  ],
  "metadata": {
    "colab": {
      "provenance": [],
      "include_colab_link": true
    },
    "kernelspec": {
      "display_name": "Python 3 (ipykernel)",
      "language": "python",
      "name": "python3"
    },
    "language_info": {
      "codemirror_mode": {
        "name": "ipython",
        "version": 3
      },
      "file_extension": ".py",
      "mimetype": "text/x-python",
      "name": "python",
      "nbconvert_exporter": "python",
      "pygments_lexer": "ipython3",
      "version": "3.11.3"
    }
  },
  "nbformat": 4,
  "nbformat_minor": 0
}