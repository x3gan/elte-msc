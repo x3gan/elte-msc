{
  "cells": [
    {
      "cell_type": "markdown",
      "metadata": {
        "id": "view-in-github",
        "colab_type": "text"
      },
      "source": [
        "<a href=\"https://colab.research.google.com/github/x3gan/elte-msc/blob/main/Deep%20Network%20Development/Numpy_Introduction_25_26.ipynb\" target=\"_parent\"><img src=\"https://colab.research.google.com/assets/colab-badge.svg\" alt=\"Open In Colab\"/></a>"
      ]
    },
    {
      "cell_type": "markdown",
      "metadata": {
        "id": "wDQ65t9H_5Ra"
      },
      "source": [
        "# **NumPy Introduction**\n",
        "\n",
        "<div style=\"border: 3px solid #222; padding: 16px; border-radius: 10px; background-color: #1c1f26; font-family: 'Helvetica Neue', Helvetica, Arial, sans-serif; color: #e0e0e0;\">\n",
        "  <div style=\"display: flex; align-items: center; gap: 8px; margin-top: 12px;\">\n",
        "    <span style=\"font-size: 24px; color: #ff5555;\">&#128274;</span>\n",
        "    <span style=\"font-size: 16px;\"><strong>Project:</strong> Introduction</span>\n",
        "  </div>\n",
        "  <div style=\"display: flex; align-items: center; gap: 8px; margin-top: 8px;\">\n",
        "    <span style=\"font-size: 20px; color: #ff5555;\">&#128218;</span>\n",
        "    <span style=\"font-size: 16px;\"><strong>Course:</strong> Deep Network Development</span>\n",
        "  </div>\n",
        "  <div style=\"margin-top: 12px; font-size: 14px;\">\n",
        "    <span style=\"font-size: 18px; color: #6e8192;\">&#128100;</span>\n",
        "    <span style=\"font-weight: bold;\"><strong>Authors:</strong></span> Tamás Takács, Imre Molnár (PhD students, Department of Artificial Intelligence, Eötvös Loránd University)\n",
        "  </div>\n",
        "</div>\n",
        "<hr style=\"border: none; border-top: 2px solid #444;\">\n",
        "<br>\n",
        "\n",
        "<img src=\"https://i.ibb.co/5gGPWvmw/1706863582925-1.png\" alt=\"1706863582925-1\" border=\"0\">\n",
        "\n",
        "Numpy is one of Python's most important packages: it allows for quick numerical computations. The default interpreter/compiler of Python is CPython. This implementation, compared to other languages, results in largely slower programs. The reasons for this lie in Python a being dynamically typed language, its automatic memory allocation, and CPython working almost entirely as an interpreter, which leaves very few options for optimizing code.\n",
        "\n",
        "The speed difference truly shows when many Python statements need to be run, for example, while doing a matrix multiplication by using loops and multiplying the scalars together. This is exactly why Numpy contains functions that are capable of performing the same operation vectorized, many times over, without needing to use a Python loop. Numpy functions call code that was written in more efficient languages (such as C, Fortran), so much higher efficiency is possible by using Numpy than by using a native Python implementation.\n"
      ]
    },
    {
      "cell_type": "code",
      "source": [
        "# @title Roadmap Generator for NumPy Introduction\n",
        "%%capture flowchart_output\n",
        "from graphviz import Digraph\n",
        "\n",
        "def create_numpy_intro_flowchart(output_filename='numpy_introduction_flowchart'):\n",
        "    dot = Digraph(name='NumpyIntroduction', format='png')\n",
        "    dot.attr(rankdir='LR')  # Left-to-right layout\n",
        "    dot.attr('node', shape='box', style='filled', fontsize='12', fontname='Arial')\n",
        "\n",
        "    # Create nodes with topic and difficulty (new line before the difficulty)\n",
        "    dot.node('Basics', 'ndarray Basics & Creation\\n(Easy)', fillcolor='#A0E7A0')\n",
        "    dot.node('Reshape', 'Reshaping & Views\\n(Moderate)', fillcolor='#F6D49A')\n",
        "    dot.node('Indexing', 'Indexing & Broadcasting\\n(Moderate)', fillcolor='#F6D49A')\n",
        "    dot.node('LinAlg', 'Linear Algebra Operations\\n(Moderate)', fillcolor='#F6D49A')\n",
        "    dot.node('Manipulation', 'Array Manipulation\\n(Moderate)', fillcolor='#F6D49A')\n",
        "\n",
        "    # Define the sequential flow between nodes\n",
        "    dot.edge('Basics', 'Reshape')\n",
        "    dot.edge('Reshape', 'Indexing')\n",
        "    dot.edge('Indexing', 'LinAlg')\n",
        "    dot.edge('LinAlg', 'Manipulation')\n",
        "\n",
        "    dot.render(output_filename, view=False)\n",
        "\n",
        "create_numpy_intro_flowchart('numpy_introduction_flowchart')\n"
      ],
      "metadata": {
        "cellView": "form",
        "id": "ku7cveC3pFhI"
      },
      "execution_count": null,
      "outputs": []
    },
    {
      "cell_type": "code",
      "source": [
        "from IPython.display import Image as IMG\n",
        "IMG('numpy_introduction_flowchart.png')"
      ],
      "metadata": {
        "colab": {
          "base_uri": "https://localhost:8080/",
          "height": 76
        },
        "id": "GxG5k61RpFwD",
        "outputId": "5285598b-eb0c-41df-cbf2-9973aafa5500"
      },
      "execution_count": null,
      "outputs": [
        {
          "output_type": "execute_result",
          "data": {
            "image/png": "[encoded data removed]",
            "text/plain": [
              "<IPython.core.display.Image object>"
            ]
          },
          "metadata": {},
          "execution_count": 4
        }
      ]
    },
    {
      "cell_type": "markdown",
      "metadata": {
        "id": "6-ILeSuK7XCA"
      },
      "source": [
        "## **Numpy basics - the `ndarray` type**\n",
        "\n",
        " The most important type in the package, the `ndarray` is an n-dimensional array implementation. Let's create a 2 dimensional, 2x3 size array containing integers. The dimensions of an array are not to be confused with the mathematical dimensions of a vector."
      ]
    },
    {
      "cell_type": "code",
      "execution_count": null,
      "metadata": {
        "colab": {
          "base_uri": "https://localhost:8080/",
          "height": 260
        },
        "id": "9HQZ2WSV-R9j",
        "outputId": "4c6dba8b-7326-453f-d9b2-72f181f29cbf"
      },
      "outputs": [
        {
          "name": "stdout",
          "output_type": "stream",
          "text": [
            "The 'a' array:\n",
            " [[2 3 4]\n",
            " [1 5 8]]\n",
            "The 'b' array:\n",
            " [[3 2 9]\n",
            " [2 6 5]]\n",
            "Sum of the two arrays, elementwise:\n",
            " [[ 5  5 13]\n",
            " [ 3 11 13]]\n",
            "Multiplying all elements of 'a' by 2:\n",
            " [[ 4  6  8]\n",
            " [ 2 10 16]]\n",
            "Adding up all elements of array 'a'. The sum is: 23\n"
          ]
        }
      ],
      "source": [
        "import numpy as np  # import numpy package using the 'np' alias\n",
        "\n",
        "a = np.array([[2,3,4],[1,5,8]], dtype=np.int32)   # create array\n",
        "b = np.array([[3,2,9],[2,6,5]], dtype=np.int32)   # create array\n",
        "\n",
        "print(\"The 'a' array:\\n\", a)\n",
        "print(\"The 'b' array:\\n\", b)\n",
        "print(\"Sum of the two arrays, elementwise:\\n\", a + b)\n",
        "print(\"Multiplying all elements of 'a' by 2:\\n\", 2*a)\n",
        "print(\"Adding up all elements of array 'a'. The sum is:\", np.sum(a))"
      ]
    },
    {
      "cell_type": "markdown",
      "metadata": {
        "id": "EfLv579qKgi6"
      },
      "source": [
        "As you can see, it's possible to perform the same operation on the entire array (or a slice of it) without needing to write any loops in our code.\n",
        "\n",
        "The `ndarray` array is represented of course as a sequence of bytes in the memory, so it is stored as a 1-dimensional vector. Once we created such an array, the number of elements cannot change, so if we wish to raise the size, we must create a new array. However, the shape of the array can change: an array with 6 elements can take up a 2x3, 3x2, 6, 6x1, 6x1x1, 1x3x1x1x2x1, etc. shape as well. In this case, the place of the elements in memory remains unchanged. The possibility of seeing the array in 6 dimensions and index it as such is provided by special iterators of the `ndarray` type. For example, a 1x3x1x1x2x1 shaped array can be indexed as: `my_array[0,2,0,0,1,0]`. The array's implementation can resolve this indexing by knowing how many steps must be taken in the memory to take a step along each axis (`ndarray.strides`).\n",
        "\n",
        "Let's look at the `ndarray` type's attributes:"
      ]
    },
    {
      "cell_type": "code",
      "execution_count": null,
      "metadata": {
        "colab": {
          "base_uri": "https://localhost:8080/",
          "height": 144
        },
        "id": "9euVc4rSOay2",
        "outputId": "e299a91b-44ca-484a-f2dd-dbf938db8f62"
      },
      "outputs": [
        {
          "name": "stdout",
          "output_type": "stream",
          "text": [
            "The shape of the array: (3, 4)\n",
            "The data type of the array: int32\n",
            "The number of axes (dimensions of the array): 2\n",
            "The size of the array (total number of elements): 12\n",
            "Length along the first axis: 3\n",
            "Length along the first axis: 3\n",
            "The strides of the array (16, 4)\n"
          ]
        }
      ],
      "source": [
        "a = np.array([[2,3,4,5],[1,5,8,9],[1,5,8,9]], dtype=np.int32)\n",
        "\n",
        "print(\"The shape of the array:\", a.shape)   # returning with a tuple\n",
        "print(\"The data type of the array:\", a.dtype)   # the type of the elements\n",
        "print(\"The number of axes (dimensions of the array):\", a.ndim)   # a.k.a length of the shape tuple\n",
        "print(\"The size of the array (total number of elements):\", a.size)   # the product of the shape\n",
        "print(\"Length along the first axis:\", a.shape[0])\n",
        "print(\"Length along the first axis:\", len(a))   # len() built-in python function\n",
        "\n",
        "print(\"The strides of the array\", a.strides)  # tells us how many bytes do we need to move in\n",
        "                                              #   the memory to increase index along each axis\n"
      ]
    },
    {
      "cell_type": "markdown",
      "metadata": {
        "id": "DPWxWm2bp4e3"
      },
      "source": [
        "## **Changing the shape of arrays**\n",
        "\n",
        "As mentioned before, the shape of arrays can change freely, assuming that in the new shape the number of elements is unchanged. In this case, no copy of the original array gets made, instead, a new view is created over the old array. The type of this view is also `ndarray`, so it's seen as a simple array. It's important to understand that the view references the elements of the original array, so if the elements of the original array change, we will see these altered elements in the view as well. Also, if we change elements of the view, the original array changes too."
      ]
    },
    {
      "cell_type": "code",
      "execution_count": null,
      "metadata": {
        "colab": {
          "base_uri": "https://localhost:8080/",
          "height": 372
        },
        "id": "vI47NeQhsMuV",
        "outputId": "2eafa2f0-471a-4973-919c-4cd951b6f7ce"
      },
      "outputs": [
        {
          "name": "stdout",
          "output_type": "stream",
          "text": [
            "The 'a' array:\n",
            " [0 1 2 3 4 5]\n",
            "   ... its shape is (6,)\n",
            "\n",
            "The 'a' array reshaped to 2D shape (2, 3):\n",
            " [[0 1 2]\n",
            " [3 4 5]]\n",
            "   ... its shape is (2, 3)\n",
            "\n",
            "The modified 'a' array:\n",
            " [42  1  2  3  4  5]\n",
            "The 2D 'b' view of the 'a' array is also modified:\n",
            " [[0 1 2]\n",
            " [3 4 5]]\n",
            "\n",
            "The content of the 'a' array after 2nd modification:\n",
            " [42  1  2  3  4  5]\n",
            "The 'b' view after 2nd modification: [[ 0  1  2]\n",
            " [ 3 99  5]]\n"
          ]
        }
      ],
      "source": [
        "a = np.arange(6, dtype=np.int32)\n",
        "print(\"The 'a' array:\\n\", a)\n",
        "print(\"   ... its shape is\", a.shape)   # a tuple\n",
        "\n",
        "b = a.reshape((2, 3)).copy()   # reshape to 2D shape: (2, 3)\n",
        "print(\"\\nThe 'a' array reshaped to 2D shape (2, 3):\\n\", b)\n",
        "print(\"   ... its shape is\", b.shape)\n",
        "\n",
        "# We modify an item in the original array\n",
        "a[0] = 42\n",
        "print(\"\\nThe modified 'a' array:\\n\", a)\n",
        "print(\"The 2D 'b' view of the 'a' array is also modified:\\n\", b)\n",
        "\n",
        "# Now we modify an item in the view array\n",
        "b[1,1] = 99\n",
        "print(\"\\nThe content of the 'a' array after 2nd modification:\\n\", a)\n",
        "print(\"The 'b' view after 2nd modification:\", b)\n"
      ]
    },
    {
      "cell_type": "markdown",
      "metadata": {
        "id": "_KosMXDjxFuW"
      },
      "source": [
        "Since the number of elements in the array is fixed, while reshaping it we can set the length of an axis to -1, which calculates the correct length automatically."
      ]
    },
    {
      "cell_type": "code",
      "execution_count": null,
      "metadata": {
        "colab": {
          "base_uri": "https://localhost:8080/",
          "height": 435
        },
        "id": "50WpLnLju_YW",
        "outputId": "c43a0958-88aa-43ef-c0ac-82fdc9b53cf3"
      },
      "outputs": [
        {
          "name": "stdout",
          "output_type": "stream",
          "text": [
            "The 'a' array:\n",
            " [[0 1]\n",
            " [2 3]\n",
            " [4 5]]\n",
            "   ... its shape is (3, 2)\n",
            "\n",
            "The 'b' array:\n",
            " [0 1 2 3 4 5]\n",
            "   ... its shape is (6,)\n",
            "\n",
            "The 'c' array:\n",
            " [[[[0]\n",
            "   [1]\n",
            "   [2]]\n",
            "\n",
            "  [[3]\n",
            "   [4]\n",
            "   [5]]]]\n",
            "   ... its shape is (1, 2, 3, 1)\n",
            "\n",
            "The 'd' array:\n",
            " [0 1 2 3 4 5]\n",
            "   ... its shape is (6,)\n"
          ]
        }
      ],
      "source": [
        "a = np.arange(6, dtype=np.int32).reshape((3, 2))    # ndarray.reshape()\n",
        "print(\"The 'a' array:\\n\", a)\n",
        "print(\"   ... its shape is\", a.shape)\n",
        "\n",
        "b = a.reshape(-1)   # reshape to 1D\n",
        "print(\"\\nThe 'b' array:\\n\", b)\n",
        "print(\"   ... its shape is\", b.shape)\n",
        "\n",
        "c = b.reshape((1,-1,3,1))   # reshape to 4D: (1,2,3,1)\n",
        "print(\"\\nThe 'c' array:\\n\", c)\n",
        "print(\"   ... its shape is\", c.shape)\n",
        "\n",
        "d = np.reshape(a, (-1,))   # np.reshape() works similarly to ndarray.reshape()\n",
        "print(\"\\nThe 'd' array:\\n\", d)\n",
        "print(\"   ... its shape is\", d.shape)\n"
      ]
    },
    {
      "cell_type": "markdown",
      "metadata": {
        "id": "JQts0lkeTX8v"
      },
      "source": [
        "The order of the array's axes can be switched up as well (`np.swapaxes()`, `np.transpose()`, `ndarray.T`). These operations are the ones that should be used for transposing matrices as well."
      ]
    },
    {
      "cell_type": "markdown",
      "metadata": {
        "id": "hQ7ncWJOo0fJ"
      },
      "source": [
        "## **Creating arrays**\n",
        "\n",
        "The type of the elements inside the `ndarray` array must be given at its creation. Every element in the array will have the same type, with the exception of rarely used structured arrays and recarrays, but we won't be using those.\n",
        "\n",
        "Documentation:\n",
        "https://docs.scipy.org/doc/numpy/reference/routines.array-creation.html"
      ]
    },
    {
      "cell_type": "code",
      "execution_count": null,
      "metadata": {
        "colab": {
          "base_uri": "https://localhost:8080/",
          "height": 235
        },
        "id": "SkugYqiAqS7W",
        "outputId": "a879cf72-8717-4828-f3e7-d7df7680d6f1"
      },
      "outputs": [
        {
          "name": "stdout",
          "output_type": "stream",
          "text": [
            "New floating point array, filled with zeros:\n",
            " [[0. 0. 0.]\n",
            " [0. 0. 0.]]\n",
            "New integer array, filled with ones:\n",
            " [[1 1]\n",
            " [1 1]]\n",
            "New EMPTY (uninitialized) array (elements may have any starting value):\n",
            " [[ 0.000000e+00  0.000000e+00 -5.630583e+20]]\n",
            "New floating point array, elements are given explicitly:\n",
            " [[ 1.   0.2 -2.8]\n",
            " [ 2.6  3.2 -0.2]]\n",
            "    ... it's shape is  (2, 3)\n"
          ]
        }
      ],
      "source": [
        "a = np.zeros((2,3), dtype=np.float32)\n",
        "print(\"New floating point array, filled with zeros:\\n\", a)\n",
        "\n",
        "b = np.ones((2,2), dtype=np.int32)\n",
        "print(\"New integer array, filled with ones:\\n\", b)\n",
        "\n",
        "c = np.empty((1,3), dtype=np.float32)  # NO INITIALIZATION of elements, values are undefined\n",
        "print(\"New EMPTY (uninitialized) array (elements may have any starting value):\\n\", c)\n",
        "\n",
        "d = np.array([[1.,.2,-2.8],[2.6,3.2,-.2]], dtype=np.float32)\n",
        "print(\"New floating point array, elements are given explicitly:\\n\", d)\n",
        "print(\"    ... it's shape is \", d.shape)"
      ]
    },
    {
      "cell_type": "markdown",
      "metadata": {
        "id": "HBfSxllF04T7"
      },
      "source": [
        "Main datatypes (`dtype`):\n",
        "* `np.bool_`: Boolean datatype (True or False). True is represented by a 1 and False is represented by a 0.\n",
        "* `np.int8, int16, int32, int64`: integer datatypes contained in 1, 2, 4, 8 bytes, I.e. int8's values are inside the [-128, 127] interval.\n",
        "* `np.float16, float32, float64`: real number datatypes contained in 2, 4, 8 bytes. Graphics cards today are optimized for using the float32 (single precision) datatype."
      ]
    },
    {
      "cell_type": "markdown",
      "metadata": {
        "id": "qibUsG8eUwwF"
      },
      "source": [
        "**Creating arrays from equal step size sequences:**"
      ]
    },
    {
      "cell_type": "code",
      "execution_count": null,
      "metadata": {
        "colab": {
          "base_uri": "https://localhost:8080/",
          "height": 253
        },
        "id": "gdjriaIQvR8p",
        "outputId": "1170b7f6-212e-4fd7-84fe-7db4c8aa476c"
      },
      "outputs": [
        {
          "name": "stdout",
          "output_type": "stream",
          "text": [
            "Array with elements from range(5):  [0 1 2 3 4]\n",
            "    ... shape of the array is: (5,)\n",
            "\n",
            "Array with elements from range(5, 10):  [5. 6. 7. 8. 9.]\n",
            "\n",
            "Array with elements from range(10, 4, -2):  [10.  8.  6.  4.  2.  0. -2.]\n",
            "\n",
            "Array with elements from (empty) range(10, 5):  []\n",
            "    ... shape of the empty array is: (0,)\n",
            "\n",
            "Array with equally spaced numbers from interval:\n",
            " [10.         10.42857143 10.85714286 11.28571429 11.71428571 12.14285714\n",
            " 12.57142857]\n"
          ]
        }
      ],
      "source": [
        "# ranges, interavals\n",
        "\n",
        "a = np.arange(5, dtype=np.int64)   # end value is given\n",
        "print(\"Array with elements from range(5): \", a)\n",
        "print(\"    ... shape of the array is:\", a.shape)\n",
        "\n",
        "b = np.arange(5, 10, dtype=np.float16)   # start & end value is given\n",
        "print(\"\\nArray with elements from range(5, 10): \", b)\n",
        "\n",
        "c = np.arange(10, -4, -2, dtype=np.float64)   # start, end & step value is given\n",
        "print(\"\\nArray with elements from range(10, 4, -2): \", c)\n",
        "\n",
        "b2 = np.arange(10, 5, dtype=np.float16)   # start & end value is given\n",
        "print(\"\\nArray with elements from (empty) range(10, 5): \", b2)\n",
        "print(\"    ... shape of the empty array is:\", b2.shape)\n",
        "\n",
        "d = np.linspace(10., 13., num=7, endpoint=False, dtype=np.float64)\n",
        "print(\"\\nArray with equally spaced numbers from interval:\\n\", d)\n"
      ]
    },
    {
      "cell_type": "markdown",
      "metadata": {
        "id": "TDj9myUCycC3"
      },
      "source": [
        "**Generating random numbers:**"
      ]
    },
    {
      "cell_type": "code",
      "execution_count": null,
      "metadata": {
        "colab": {
          "base_uri": "https://localhost:8080/",
          "height": 253
        },
        "id": "4yiju5tgxfUO",
        "outputId": "7d13d72d-25ee-405b-ef98-aad6c2f82d20"
      },
      "outputs": [
        {
          "name": "stdout",
          "output_type": "stream",
          "text": [
            "(1,4,1) shaped array with random elements from [0,1) interval (uniform):\n",
            "  [[[0.44428035]\n",
            "  [0.56448829]\n",
            "  [0.43426523]\n",
            "  [0.42845164]]]\n",
            "    ... shape of the array: (1, 4, 1) ; datatype of the array: float64\n",
            "\n",
            "(2,) shaped array with random elements from standard normal (Gaussian) distribution:\n",
            "  [0.02795003 0.36478077]\n",
            "\n",
            "(2,5) shaped array with random integer elements from [0,4] interval (uniform):\n",
            "  [[0 3 1 3 4]\n",
            " [2 3 0 3 0]]\n"
          ]
        }
      ],
      "source": [
        "# random numbers\n",
        "r1 = np.random.rand(1, 4, 1)\n",
        "print(\"(1,4,1) shaped array with random elements from [0,1) interval (uniform):\\n \", r1)\n",
        "print(\"    ... shape of the array:\", r1.shape, \"; datatype of the array:\", r1.dtype)\n",
        "\n",
        "r2 = np.random.randn(2)\n",
        "print(\"\\n(2,) shaped array with random elements from standard normal (Gaussian) distribution:\\n \", r2)\n",
        "\n",
        "r3 = np.random.randint(5, size=(2,5), dtype=np.uint16)\n",
        "print(\"\\n(2,5) shaped array with random integer elements from [0,4] interval (uniform):\\n \", r3)\n"
      ]
    },
    {
      "cell_type": "markdown",
      "metadata": {
        "id": "YE9ArWa82SI2"
      },
      "source": [
        "## **Conversion between datatypes**\n",
        "\n",
        "Later we will need to be able to convert an array of a certain datatype into another datatype. This will create a new array.\n",
        "\n",
        "Here's a common use case: images and videos are often stored in uint8 format (a pixel's brightness in each color channel is represented by a value between 0 and 255), but in neural networks, we like to use real numbers, because gradient and hidden representations are not necessarily integers, so we convert them to the float32 format.\n",
        "\n",
        "During the conversion process, we must be aware of possible data loss that may result from loss of precision, or under/overflow."
      ]
    },
    {
      "cell_type": "code",
      "execution_count": null,
      "metadata": {
        "colab": {
          "base_uri": "https://localhost:8080/",
          "height": 181
        },
        "id": "DVQL4WCG3asd",
        "outputId": "6369438c-2c89-4e31-9fe4-e2b7fbe0c091"
      },
      "outputs": [
        {
          "name": "stdout",
          "output_type": "stream",
          "text": [
            "Data type of the 'a' array: uint8\n",
            "The 'a' array:\n",
            " [[  2   3 125]\n",
            " [255   0  45]]\n",
            "\n",
            "Data type of the 'b' array: float32\n",
            "The 'b' array:\n",
            " [[  2.   3. 125.]\n",
            " [255.   0.  45.]]\n"
          ]
        }
      ],
      "source": [
        "a = np.array([[2,3,125], [255, 0, 45]], dtype=np.uint8)\n",
        "print(\"Data type of the 'a' array:\", a.dtype)\n",
        "print(\"The 'a' array:\\n\", a)\n",
        "\n",
        "b = a.astype(np.float32)  # type conversion\n",
        "print(\"\\nData type of the 'b' array:\", b.dtype)\n",
        "print(\"The 'b' array:\\n\", b)\n"
      ]
    },
    {
      "cell_type": "markdown",
      "metadata": {
        "id": "7GMmQ_iW0YvG"
      },
      "source": [
        "## **Basic indexing, multiple views**\n",
        "\n",
        "Multiple elements of a Numpy array can be indexed at once to perform the same operation on all of them without using any loops.\n",
        "\n",
        "We differentiate two different methods of indexing: **basic** and **advanced indexing**.\n",
        "\n",
        "**Basic indexing** manages elements of the array like using a range on a Python list, but along multiple dimensions at once. For example, if array `a` is a one-dimensional array with a minimum of 10 elements, `a[5:10:2]` references its elements with the index 5,7,9. `a[5:10:2]` itself is of the ndarray type and includes the aforementioned three elements. In **basic indexing**, which is very similar, the created array is only a _view_ of the original array, so if the original array's elements are changed, the view's elements will also change accordingly.\n",
        "\n",
        "We will discuss **advanced indexing** in the next notebook."
      ]
    },
    {
      "cell_type": "markdown",
      "metadata": {
        "id": "oVFPR9gvS6qQ"
      },
      "source": [
        "**Accessing and printing an element:**"
      ]
    },
    {
      "cell_type": "code",
      "execution_count": null,
      "metadata": {
        "colab": {
          "base_uri": "https://localhost:8080/",
          "height": 235
        },
        "id": "_gLsULZd0qb-",
        "outputId": "07f3551c-7ab3-490c-cd9f-7b4b6a7b1f0e"
      },
      "outputs": [
        {
          "name": "stdout",
          "output_type": "stream",
          "text": [
            "The 'a' array:\n",
            " [[0 1]\n",
            " [2 3]\n",
            " [4 5]]\n",
            "   ... its shape is (3, 2)\n",
            "\n",
            "Accessing a single element: 1 1\n",
            "\n",
            "The 'a' array:\n",
            " [[ 0 42]\n",
            " [ 2  3]\n",
            " [ 4  5]]\n"
          ]
        }
      ],
      "source": [
        "a = np.arange(6, dtype=np.int32).reshape((3, 2))\n",
        "print(\"The 'a' array:\\n\", a)\n",
        "print(\"   ... its shape is\", a.shape)\n",
        "\n",
        "print(\"\\nAccessing a single element:\", a[0,1], a[0][1])\n",
        "\n",
        "a[0,1] = 42  # writing a single element in the array\n",
        "print(\"\\nThe 'a' array:\\n\", a)"
      ]
    },
    {
      "cell_type": "markdown",
      "metadata": {
        "id": "fQxFc6fTTTmd"
      },
      "source": [
        "**Negative index (indexing from the back):**"
      ]
    },
    {
      "cell_type": "code",
      "execution_count": null,
      "metadata": {
        "colab": {
          "base_uri": "https://localhost:8080/",
          "height": 72
        },
        "id": "YTJcxippTVYW",
        "outputId": "477e3aa3-b3ba-4844-f6fb-750e82a2dde2"
      },
      "outputs": [
        {
          "name": "stdout",
          "output_type": "stream",
          "text": [
            "\n",
            "Accessing a single element: 42\n",
            "Accessing a single element: 3\n"
          ]
        }
      ],
      "source": [
        "# indexing with negative numbers: -1: last, -2: last but one\n",
        "\n",
        "print(\"\\nAccessing a single element:\", a[0,-1])\n",
        "print(\"Accessing a single element:\", a[-2,-1])"
      ]
    },
    {
      "cell_type": "markdown",
      "metadata": {
        "id": "p3SNQuTTVjNB"
      },
      "source": [
        "**Range indexing (the syntax similiar to Python lists):**"
      ]
    },
    {
      "cell_type": "code",
      "execution_count": null,
      "metadata": {
        "colab": {
          "base_uri": "https://localhost:8080/",
          "height": 217
        },
        "id": "AtRLprCdV7j3",
        "outputId": "ac8cce44-ffac-4d9f-f916-43eedfdd2d5c"
      },
      "outputs": [
        {
          "name": "stdout",
          "output_type": "stream",
          "text": [
            "The 'a' array:\n",
            " [0 1 2 3 4 5]\n",
            "   ... its shape is (6,)\n",
            "\n",
            "A slice of array 'a': [2 3]\n",
            "Another slice of array 'a': [2 3 4 5]\n",
            "A third slice of array 'a': [0 1 2 3]\n",
            "\n",
            "Every second item in array 'a': [0 2 4]\n",
            "Reversed 'a': [5 4 3 2 1 0]\n",
            "Custom slice 'a': [4 2]\n"
          ]
        }
      ],
      "source": [
        "a = np.arange(6, dtype=np.int32)\n",
        "print(\"The 'a' array:\\n\", a)\n",
        "print(\"   ... its shape is\", a.shape)\n",
        "\n",
        "print(\"\\nA slice of array 'a':\", a[2:4])  # syntax -> start:stop:step_size\n",
        "\n",
        "print(\"Another slice of array 'a':\", a[2:])   # from #2 till end\n",
        "\n",
        "print(\"A third slice of array 'a':\", a[:4])   # from start till #4 (exclusive)\n",
        "\n",
        "print(\"\\nEvery second item in array 'a':\", a[::2])\n",
        "\n",
        "print(\"Reversed 'a':\", a[::-1])\n",
        "\n",
        "print(\"Custom slice 'a':\", a[4:0:-2])"
      ]
    },
    {
      "cell_type": "markdown",
      "metadata": {
        "id": "vwpVsXtIXiwB"
      },
      "source": [
        "**Range indexing on multiple axes at the same time:**"
      ]
    },
    {
      "cell_type": "code",
      "execution_count": null,
      "metadata": {
        "colab": {
          "base_uri": "https://localhost:8080/",
          "height": 344
        },
        "id": "nouXUwPMXssT",
        "outputId": "975353d3-db9b-4230-c685-0c264f8d3468"
      },
      "outputs": [
        {
          "name": "stdout",
          "output_type": "stream",
          "text": [
            "The 2D 'a' array:\n",
            " [[ 0  1  2  3  4  5]\n",
            " [ 6  7  8  9 10 11]\n",
            " [12 13 14 15 16 17]\n",
            " [18 19 20 21 22 23]\n",
            " [24 25 26 27 28 29]]\n",
            "   ... its shape is (5, 6)\n",
            "\n",
            "Single index along axis#0, entire range along#1:  [18 19 20 21 22 23]\n",
            "... same as previous, last axis indexing omitted:  [18 19 20 21 22 23]\n",
            "Single index along axis#0, custom range along#1:  [23 21 19]\n",
            "\n",
            "Entire range along axis#0, single index along#1:  [ 3  9 15 21 27]\n",
            "... same as previous, all axes omitted except last one:  [ 3  9 15 21 27]\n",
            "\n",
            "Custom range along both axes:\n",
            " [[ 5  3  1]\n",
            " [23 21 19]]\n"
          ]
        }
      ],
      "source": [
        "a = np.arange(30, dtype=np.int32).reshape((5,6))\n",
        "print(\"The 2D 'a' array:\\n\", a)\n",
        "print(\"   ... its shape is\", a.shape)\n",
        "\n",
        "print(\"\\nSingle index along axis#0, entire range along#1: \", a[3,0:6])  # 4th row\n",
        "\n",
        "print(\"... same as previous, last axis indexing omitted: \", a[3])  # 4th row\n",
        "\n",
        "print(\"Single index along axis#0, custom range along#1: \", a[3,6:0:-2])\n",
        "\n",
        "print(\"\\nEntire range along axis#0, single index along#1: \", a[:,3])  # 4th column\n",
        "\n",
        "print(\"... same as previous, all axes omitted except last one: \", a[..., 3])  # 4th row\n",
        "\n",
        "print(\"\\nCustom range along both axes:\\n\", a[::3,6:0:-2])"
      ]
    },
    {
      "cell_type": "markdown",
      "metadata": {
        "id": "F8-mmnjdbpCg"
      },
      "source": [
        "Empty range. It's possible for an array's size to be 0, in this case, its shape along at least one axis is 0."
      ]
    },
    {
      "cell_type": "code",
      "execution_count": null,
      "metadata": {
        "colab": {
          "base_uri": "https://localhost:8080/",
          "height": 72
        },
        "id": "v_ooIU03bqtH",
        "outputId": "718ff747-b988-4728-b9d0-fb61e60919f8"
      },
      "outputs": [
        {
          "name": "stdout",
          "output_type": "stream",
          "text": [
            "\n",
            "An empty slice of 'a':  []\n",
            "   ... its shape is (0, 6)\n"
          ]
        }
      ],
      "source": [
        "b = a[8:,:]\n",
        "print(\"\\nAn empty slice of 'a': \", b)  # no error if RANGE is out of bounds\n",
        "print(\"   ... its shape is\", b.shape)\n",
        "\n",
        "# b = a[8,:]   # would result in an error, because axis#0 SINGLE index is out of bounds"
      ]
    },
    {
      "cell_type": "markdown",
      "metadata": {
        "id": "wx_6J9YeZ2Qg"
      },
      "source": [
        "**Printing slices of arrays:**"
      ]
    },
    {
      "cell_type": "code",
      "execution_count": null,
      "metadata": {
        "colab": {
          "base_uri": "https://localhost:8080/",
          "height": 580
        },
        "id": "cf7n9JT9aCqa",
        "outputId": "d2afac06-e439-4839-8e36-5238a439a1f1"
      },
      "outputs": [
        {
          "name": "stdout",
          "output_type": "stream",
          "text": [
            "The 2D 'a' array:\n",
            " [[ 0  1  2]\n",
            " [ 3  4  5]\n",
            " [ 6  7  8]\n",
            " [ 9 10 11]]\n",
            "   ... its shape is (4, 3)\n",
            "\n",
            "The modified 2D 'a' array:\n",
            " [[ 0 42 42]\n",
            " [ 3  4  5]\n",
            " [ 6 42 42]\n",
            " [ 9 10 11]]\n",
            "\n",
            "The 'b' array (a view of 'a'):\n",
            " [[ 0 42]\n",
            " [ 3  4]\n",
            " [ 6 42]\n",
            " [ 9 10]]\n",
            "   ... its shape is (4, 2)\n",
            "\n",
            "The 'b' array (a view of 'a'):\n",
            " [[99 99]\n",
            " [99 99]\n",
            " [99 99]\n",
            " [99 99]]\n",
            "\n",
            "The 'a' array:\n",
            " [[99 99 42]\n",
            " [99 99  5]\n",
            " [99 99 42]\n",
            " [99 99 11]]\n"
          ]
        }
      ],
      "source": [
        "a = np.arange(12, dtype=np.int32).reshape((4,3))\n",
        "print(\"The 2D 'a' array:\\n\", a)\n",
        "print(\"   ... its shape is\", a.shape)\n",
        "\n",
        "a[::2,1:3] = 42\n",
        "print(\"\\nThe modified 2D 'a' array:\\n\", a)\n",
        "\n",
        "b = a[:,:2]   # 'b' is a view of array 'a', if we write 'b', we also write 'a'\n",
        "print(\"\\nThe 'b' array (a view of 'a'):\\n\", b)\n",
        "print(\"   ... its shape is\", b.shape)\n",
        "\n",
        "b[:] = 99   # with [:] (or [:,:], ...) we refer to all elements in 'b'\n",
        "print(\"\\nThe 'b' array (a view of 'a'):\\n\", b)\n",
        "print(\"\\nThe 'a' array:\\n\", a)\n"
      ]
    },
    {
      "cell_type": "markdown",
      "metadata": {
        "id": "E_-qWpQyzl8L"
      },
      "source": [
        "## **Simple arithmetic operations, treating arrays of different shapes (broadcasting)**\n",
        "\n",
        "Arithmetics performed element-to-element (elementwise) on same-size arrays. Adding the elements of two arrays is done as shown below. No need for python loops."
      ]
    },
    {
      "cell_type": "code",
      "execution_count": null,
      "metadata": {
        "colab": {
          "base_uri": "https://localhost:8080/",
          "height": 253
        },
        "id": "mPnECP1WzykD",
        "outputId": "d59a1f13-f94e-47d3-fd1e-4dd6f231f982"
      },
      "outputs": [
        {
          "name": "stdout",
          "output_type": "stream",
          "text": [
            "The 2D 'a' array:\n",
            " [[0 1 2]\n",
            " [3 4 5]]\n",
            "   ... its shape is (2, 3)\n",
            "\n",
            "The 2D 'b' array:\n",
            " [[1 1 1]\n",
            " [1 1 1]]\n",
            "   ... its shape is (2, 3)\n",
            "\n",
            "The result array:\n",
            " [[1 2 3]\n",
            " [4 5 6]]\n"
          ]
        }
      ],
      "source": [
        "a = np.arange(6, dtype=np.int32).reshape((2,3))\n",
        "print(\"The 2D 'a' array:\\n\", a)\n",
        "print(\"   ... its shape is\", a.shape)\n",
        "\n",
        "b = np.ones_like(a, dtype=np.int32)\n",
        "print(\"\\nThe 2D 'b' array:\\n\", b)\n",
        "print(\"   ... its shape is\", b.shape)\n",
        "\n",
        "# now we add the two arrays\n",
        "\n",
        "c = a+b\n",
        "print(\"\\nThe result array:\\n\", c)"
      ]
    },
    {
      "cell_type": "code",
      "execution_count": null,
      "metadata": {
        "id": "_vhqQz5xAvSU",
        "outputId": "06a50669-4aec-47a3-be8c-26d0fefb7f8b"
      },
      "outputs": [
        {
          "name": "stdout",
          "output_type": "stream",
          "text": [
            "[[5 5 5]\n",
            " [5 5 5]]\n"
          ]
        }
      ],
      "source": [
        "d = np.full_like(a, 5, dtype=np.int32)\n",
        "print(d)"
      ]
    },
    {
      "cell_type": "markdown",
      "metadata": {
        "id": "BlUg7zDf07aX"
      },
      "source": [
        "So far all is clear, we can add same-size arrays, multiply them, etc. elementwise. However, Numpy makes it possible, under certain conditions, to perform elementwise operations on arrays of different sizes. To do this, Numpy automatically synchronizes the sizes of the arrays, repeating elements along certain axes if needed. This is **broadcasting**.\n",
        "\n",
        "What exactly happens if we try to raise every element of an array by a constant?\n"
      ]
    },
    {
      "cell_type": "code",
      "execution_count": null,
      "metadata": {
        "colab": {
          "base_uri": "https://localhost:8080/",
          "height": 162
        },
        "id": "LKmFnQHo13cD",
        "outputId": "2f72d319-a975-472e-a339-d8afee5e41fc"
      },
      "outputs": [
        {
          "name": "stdout",
          "output_type": "stream",
          "text": [
            "The 2D 'a' array:\n",
            " [[0 1 2]\n",
            " [3 4 5]]\n",
            "   ... its shape is (2, 3)\n",
            "\n",
            "The modified 'a' array:\n",
            " [[1 2 3]\n",
            " [4 5 6]]\n"
          ]
        }
      ],
      "source": [
        "a = np.arange(6, dtype=np.int32).reshape((2,3))\n",
        "print(\"The 2D 'a' array:\\n\", a)\n",
        "print(\"   ... its shape is\", a.shape)\n",
        "\n",
        "a = a+1\n",
        "print(\"\\nThe modified 'a' array:\\n\", a)\n"
      ]
    },
    {
      "cell_type": "markdown",
      "metadata": {
        "id": "0O0rZonN8RSF"
      },
      "source": [
        "Numpy first packs the Python int type '1' literal into a (1,) shaped Numpy array with one element which is the 1. After which, as seen on the image, raises its size to a (2,3) shape by repeating the elements along both axes, so that it exactly matches the 'a' array's shape.\n",
        "\n",
        "![Illustration of NumPy broadcasting. On the left, a 2x3 array with values ((0,1,2),(3,4,5)). In the middle, a scalar value 1, shown as a (1,) shaped array. The scalar is expanded into a 2x3 array ((1,1,1),(1,1,1)) to match the shape of the first array. Adding the arrays elementwise results in ((1,2,3),(4,5,6))](https://drive.google.com/uc?export=download&id=1O_R6m1Jmt2ffset2D7GtV73YRgW9yYvc)"
      ]
    },
    {
      "cell_type": "markdown",
      "metadata": {
        "id": "e9RYCbTk97Bc"
      },
      "source": [
        "In the case of broadcasting, the **extended size array is really just a view over the original array**, no additional memory space is allocated. There is no actual repeating of elements, instead, the same memory space is accessed repeatedly.\n",
        "\n",
        "Let's look at other cases of broadcasting. We can think of a 2D array like a matrix. Let's add a vector to each row of this matrix!"
      ]
    },
    {
      "cell_type": "code",
      "execution_count": null,
      "metadata": {
        "colab": {
          "base_uri": "https://localhost:8080/",
          "height": 235
        },
        "id": "ZGTqcoUN-3oL",
        "outputId": "d9e087bd-7de0-417b-fa27-82bf340b74c8"
      },
      "outputs": [
        {
          "name": "stdout",
          "output_type": "stream",
          "text": [
            "The 2D 'a' array:\n",
            " [[0 1 2]\n",
            " [3 4 5]]\n",
            "   ... its shape is (2, 3)\n",
            "\n",
            "The 1D 'vec' array:\n",
            " [10 20 30]\n",
            "   ... its shape is (3,)\n",
            "\n",
            "The modified 'a' array:\n",
            " [[10 21 32]\n",
            " [13 24 35]]\n"
          ]
        }
      ],
      "source": [
        "a = np.arange(6, dtype=np.int32).reshape((2,3))\n",
        "print(\"The 2D 'a' array:\\n\", a)\n",
        "print(\"   ... its shape is\", a.shape)\n",
        "\n",
        "vec = np.arange(10,40,10, dtype=np.int32)\n",
        "print(\"\\nThe 1D 'vec' array:\\n\", vec)\n",
        "print(\"   ... its shape is\", vec.shape)\n",
        "\n",
        "a = a+vec\n",
        "print(\"\\nThe modified 'a' array:\\n\", a)"
      ]
    },
    {
      "cell_type": "markdown",
      "metadata": {
        "id": "2BHUQN1K_DIE"
      },
      "source": [
        "In this case, the vector with the shape of (3,) gets a new axis: so (1,3) will be its new shape, then by repeating elements along the axis with index #0, it will have a shape of (2,3).\n",
        "\n",
        "![Illustration of NumPy broadcasting with a row vector. On the left, a 2x3 array ((0,1,2),(3,4,5)). On the right, a (3,) vector (10,20,30). The vector is reshaped to (1,3) and then broadcast along axis 0 to form a 2x3 array ((10,20,30),(10,20,30)). Adding elementwise gives the result ((10,21,32),(13,24,35)).](https://drive.google.com/uc?export=download&id=1hCbOpGPvU84B6Jg5fpBT866w49VYcamu)\n",
        "\n",
        "Now let's try adding a column vector to the matrix!"
      ]
    },
    {
      "cell_type": "code",
      "execution_count": null,
      "metadata": {
        "colab": {
          "base_uri": "https://localhost:8080/",
          "height": 162
        },
        "id": "R-D3zMG8APAU",
        "outputId": "efc2d4c8-14f8-45da-9f63-99e419fd2abe"
      },
      "outputs": [
        {
          "name": "stdout",
          "output_type": "stream",
          "text": [
            "The 2D 'a' array:\n",
            " [[0 1 2]\n",
            " [3 4 5]]\n",
            "   ... its shape is (2, 3)\n",
            "\n",
            "The 1D 'vec' array:\n",
            " [10 20]\n",
            "   ... its shape is (2,)\n"
          ]
        }
      ],
      "source": [
        "a = np.arange(6, dtype=np.int32).reshape((2,3))\n",
        "print(\"The 2D 'a' array:\\n\", a)\n",
        "print(\"   ... its shape is\", a.shape)\n",
        "\n",
        "vec = np.arange(10,30,10, dtype=np.int32)\n",
        "print(\"\\nThe 1D 'vec' array:\\n\", vec)\n",
        "print(\"   ... its shape is\", vec.shape)\n",
        "\n",
        "# a = a+vec    # ValueError: operands could not be broadcast together with shapes (2,3) (2,)"
      ]
    },
    {
      "cell_type": "markdown",
      "metadata": {
        "id": "hG6JVQVVATRD"
      },
      "source": [
        "This would cause Numpy to throw an error, as it can't complete the operation. Why?\n",
        "\n",
        "During broadcasting, Numpy tries comparing the length of each axis of the arrays moving backwards from the last dimension. In the last example, these were equal, however, this time the matrix's last axis with its length of three and the vector's length of 2 will not be compatible with each other.\n",
        "\n",
        "![Illustration of a NumPy broadcasting error. On the left, a 2x3 matrix ((0,1,2),(3,4,5)). On the right, a (2,) vector (10,20). Since the last axis lengths differ (matrix has 3, vector has 2), broadcasting fails. A large red \"X\" indicates the error. The accompanying text explains that to fix this, the vector must be reshaped into (2,1), so that it aligns with the first axis of the matrix for successful broadcasting.](https://drive.google.com/uc?export=download&id=1ht8GtbplkKRQEQEcpFz4iCiJfg8bdCn8)\n",
        "\n",
        "What can we do?\n",
        "\n",
        "We need to let Numpy know that we want to compare the vector to the axis with index #0 from the matrix, instead of the axis with index #1. Because the axis comparison begins from the back, the vector must be manually made to be 2 dimensional, by the addition of an extra (length 1) last axis. So, we'll manually reshape the (2,) shaped vector into a (2, 1) shape and after that, perform the addition."
      ]
    },
    {
      "cell_type": "code",
      "execution_count": null,
      "metadata": {
        "colab": {
          "base_uri": "https://localhost:8080/",
          "height": 235
        },
        "id": "goCaNVEJB_21",
        "outputId": "7bc4c6c4-bfad-44fd-f939-6590f604227d"
      },
      "outputs": [
        {
          "name": "stdout",
          "output_type": "stream",
          "text": [
            "The 2D 'a' array:\n",
            " [[0 1 2]\n",
            " [3 4 5]]\n",
            "   ... its shape is (2, 3)\n",
            "\n",
            "The 1D 'vec' array:\n",
            " [10 20]\n",
            "   ... its shape is (2,)\n",
            "\n",
            "The modified 'a' array:\n",
            " [[10 11 12]\n",
            " [23 24 25]]\n"
          ]
        }
      ],
      "source": [
        "a = np.arange(6, dtype=np.int32).reshape((2,3))\n",
        "print(\"The 2D 'a' array:\\n\", a)\n",
        "print(\"   ... its shape is\", a.shape)\n",
        "\n",
        "vec = np.arange(10,30,10, dtype=np.int32)\n",
        "print(\"\\nThe 1D 'vec' array:\\n\", vec)\n",
        "print(\"   ... its shape is\", vec.shape)\n",
        "\n",
        "a = a + vec.reshape((2, 1))\n",
        "print(\"\\nThe modified 'a' array:\\n\", a)"
      ]
    },
    {
      "cell_type": "markdown",
      "metadata": {
        "id": "RpU2WOeiCMyU"
      },
      "source": [
        "The operation was successful, the following happened: the (2,1) shaped vector that we made to be 2 dimensional repeated along axis #1 three times. This is of course just a view because actually, it's only the iteration over the vector that changed, so it still takes up 2 elements of space in memory.\n",
        "\n",
        "![Illustration of successful NumPy broadcasting with a column vector. On the left, a 2x3 matrix ((0,1,2),(3,4,5)). Next to it, a reshaped (2,1) column vector ((10),(20)). A green check mark indicates success. The column vector is broadcast across three columns to form ((10,10,10),(20,20,20)). Adding elementwise produces ((10,11,12),(23,24,25)).](https://drive.google.com/uc?export=download&id=1G-cPJzXbpzXoHXUJwJ-lxk4LA8PsyI7d)"
      ]
    },
    {
      "cell_type": "markdown",
      "metadata": {
        "id": "T3Jk-zmNDnML"
      },
      "source": [
        "**We can create a multiplication table using broadcasting:**"
      ]
    },
    {
      "cell_type": "code",
      "execution_count": null,
      "metadata": {
        "colab": {
          "base_uri": "https://localhost:8080/",
          "height": 253
        },
        "id": "fbdBrSuxDu2j",
        "outputId": "8b8a2242-5950-4833-effc-2742098642cc"
      },
      "outputs": [
        {
          "name": "stdout",
          "output_type": "stream",
          "text": [
            "The 'v1' vector:\n",
            " [0 1 2]\n",
            "   ... its shape is (3,)\n",
            "The 'v2' vector:\n",
            " [[3]\n",
            " [4]\n",
            " [5]]\n",
            "   ... its shape is (3, 1)\n",
            "\n",
            "The result array:\n",
            " [[ 0  3  6]\n",
            " [ 0  4  8]\n",
            " [ 0  5 10]]\n"
          ]
        }
      ],
      "source": [
        "v1 = np.arange(3, dtype=np.int32)\n",
        "print(\"The 'v1' vector:\\n\", v1)\n",
        "print(\"   ... its shape is\", v1.shape)\n",
        "\n",
        "v2 = (np.arange(3, dtype=np.int32)+3).reshape(3,1)\n",
        "print(\"The 'v2' vector:\\n\", v2)\n",
        "print(\"   ... its shape is\", v2.shape)\n",
        "\n",
        "r = v1 * v2\n",
        "print(\"\\nThe result array:\\n\", r)"
      ]
    },
    {
      "cell_type": "markdown",
      "metadata": {
        "id": "neQPBqrKDyLd"
      },
      "source": [
        "This time the shape of both arrays changed in order to match them together. The first, (3,) shaped vector got a new axis at index #0, so its dimensions match the second vector, making its shape (1,3). Now the first vector's 3 long axis is matched with the other vector's 1 length axis, while the second actor's 3 length axis is matched with the first vector's new axis by Numpy, so along both axes, the length of 1 is extended to a length of 3 by virtually repeating elements. So, in the end, two (3,3) shaped matrices will have their elements multiplied together in pairs, which will return the final result.\n",
        "\n",
        "![Illustration of NumPy broadcasting with two vectors. On the left, a row vector (0,1,2) with shape (3,). On the right, a column vector ((3),(4),(5)) with shape (3,1). Each vector is broadcast to a 3x3 matrix: the row vector becomes ((0,1,2),(0,1,2),(0,1,2)) and the column vector becomes ((3,3,3),(4,4,4),(5,5,5)). Multiplying elementwise produces the final result matrix ((0,3,6),(0,4,8),(0,5,10)).](https://drive.google.com/uc?export=download&id=1LYRdTn-99cFHtCZD3teSNP8bK-zWFG8b)"
      ]
    },
    {
      "cell_type": "markdown",
      "metadata": {
        "id": "KxW8hQi0FE8k"
      },
      "source": [
        "**So what are the exact rules of broadcasting?**\n",
        "\n",
        "- If the dimensions of two arrays do not match, the array with fewer dimensions gets new (length of 1) first axes. Just enough so that their dimensions match.\n",
        "- Then the two arrays axes get paired and compared: the first array's axis with index #i has to have a length which is compatible with the second arrays #i axis. The two axes are compatible if their length is equal or either has a length of 1. If their length is equal, there is no need for repetition along the given axis. If their length is not equal and one of the arrays' axis has a length of 1, then along that array the entire array is repeated, enough times that the axis' length matches the length of the other array's axis.\n",
        "- If two arrays are incompatible along any of the axes, then Numpy throws an error and the broadcasting cannot be performed.\n",
        "\n",
        "Documentation: https://docs.scipy.org/doc/numpy/user/basics.broadcasting.html"
      ]
    },
    {
      "cell_type": "markdown",
      "metadata": {
        "id": "Oa31I1CYH-cP"
      },
      "source": [
        "**The `None` index**\n",
        "\n",
        "If we want to add a new (length 1) axis to the shape of the array, the `None` (or `np.newaxis`) index is something we can use."
      ]
    },
    {
      "cell_type": "code",
      "execution_count": null,
      "metadata": {
        "colab": {
          "base_uri": "https://localhost:8080/",
          "height": 108
        },
        "id": "uzR_XQKqIxbF",
        "outputId": "b0a3e916-77e5-43b8-8990-de2a7ebe38a5"
      },
      "outputs": [
        {
          "name": "stdout",
          "output_type": "stream",
          "text": [
            "\n",
            "The result array:\n",
            " [[ 0  3  6]\n",
            " [ 0  4  8]\n",
            " [ 0  5 10]]\n"
          ]
        }
      ],
      "source": [
        "# the previous code block in a more compact way\n",
        "\n",
        "r = np.arange(3, dtype=np.int32) * (np.arange(3, dtype=np.int32)+3)[:,None]\n",
        "print(\"\\nThe result array:\\n\", r)"
      ]
    },
    {
      "cell_type": "markdown",
      "metadata": {
        "id": "S0xj69F8Jr1X"
      },
      "source": [
        "**Some important element-by-element (elementwise) operation**"
      ]
    },
    {
      "cell_type": "code",
      "execution_count": null,
      "metadata": {
        "colab": {
          "base_uri": "https://localhost:8080/",
          "height": 907
        },
        "id": "S2aZXus3Jz79",
        "outputId": "6e31f239-2dc1-48b1-b08e-d6af979b6d31"
      },
      "outputs": [
        {
          "name": "stdout",
          "output_type": "stream",
          "text": [
            "The 2D 'a' array:\n",
            " [[0 1 2]\n",
            " [3 4 5]]\n",
            "   ... its shape is (2, 3)\n",
            "\n",
            "The 'vec' array:\n",
            " [[2]\n",
            " [4]]\n",
            "   ... its shape is (2, 1)\n",
            "\n",
            "Adding:\n",
            " [[2 3 4]\n",
            " [7 8 9]]\n",
            "\n",
            "Subtracting:\n",
            " [[-2 -1  0]\n",
            " [-1  0  1]]\n",
            "\n",
            "Multiplying:\n",
            " [[ 0  2  4]\n",
            " [12 16 20]]\n",
            "\n",
            "Float division:\n",
            " [[0.   0.5  1.  ]\n",
            " [0.75 1.   1.25]]\n",
            "\n",
            "Integer division:\n",
            " [[0 0 1]\n",
            " [0 1 1]]\n",
            "\n",
            "Power:\n",
            " [[  0   1   4]\n",
            " [ 81 256 625]]\n",
            "\n",
            "Modulo:\n",
            " [[0 1 0]\n",
            " [3 0 1]]\n",
            "\n",
            "Elementwise maximum:\n",
            " [[2 2 2]\n",
            " [4 4 5]]\n",
            "\n",
            "Equal:\n",
            " [[False False  True]\n",
            " [False  True False]]\n",
            "\n",
            "Greater:\n",
            " [[False False False]\n",
            " [False False  True]]\n"
          ]
        }
      ],
      "source": [
        "a = np.arange(6, dtype=np.int32).reshape((2,3))\n",
        "print(\"The 2D 'a' array:\\n\", a)\n",
        "print(\"   ... its shape is\", a.shape)\n",
        "\n",
        "vec = np.array([2,4], dtype=np.int32)[:,None]\n",
        "print(\"\\nThe 'vec' array:\\n\", vec)\n",
        "print(\"   ... its shape is\", vec.shape)\n",
        "\n",
        "#\n",
        "print(\"\\nAdding:\\n\", a+vec)\n",
        "print(\"\\nSubtracting:\\n\", a-vec)\n",
        "print(\"\\nMultiplying:\\n\", a*vec)\n",
        "print(\"\\nFloat division:\\n\", a/vec)   # this would be integer div in Python2 since both array are of int type!!!\n",
        "print(\"\\nInteger division:\\n\", a//vec)\n",
        "print(\"\\nPower:\\n\", a**vec)\n",
        "print(\"\\nModulo:\\n\", a%vec)\n",
        "print(\"\\nElementwise maximum:\\n\", np.maximum(a, vec))\n",
        "print(\"\\nEqual:\\n\", a == vec)\n",
        "print(\"\\nGreater:\\n\", a > vec)"
      ]
    },
    {
      "cell_type": "markdown",
      "metadata": {
        "id": "E3G3DqcU7Sgx"
      },
      "source": [
        "**Elementwise operations on bool type arrays:**"
      ]
    },
    {
      "cell_type": "code",
      "execution_count": null,
      "metadata": {
        "colab": {
          "base_uri": "https://localhost:8080/",
          "height": 435
        },
        "id": "Ee33Tyx-7aXh",
        "outputId": "5d548248-4dd8-4c0f-e3ec-8bc66852e594"
      },
      "outputs": [
        {
          "name": "stdout",
          "output_type": "stream",
          "text": [
            "The 2D 'b' array:\n",
            " [[ True False False  True False]\n",
            " [False  True False False  True]]\n",
            "   ... its shape is (2, 5)\n",
            "   ... its data type is bool\n",
            "\n",
            "The 2D 'c' array:\n",
            " [[False  True False  True False]\n",
            " [ True False  True False  True]]\n",
            "   ... its shape is (2, 5)\n",
            "   ... its data type is bool\n",
            "\n",
            "Elementwise logical AND of the two arrays:\n",
            " [[False False False  True False]\n",
            " [False False False False  True]]\n",
            "\n",
            "Elementwise logical OR of the two arrays:\n",
            " [[ True  True False  True False]\n",
            " [ True  True  True False  True]]\n",
            "\n",
            "Elementwise logical NOT of array 'b':\n",
            " [[False  True  True False  True]\n",
            " [ True False  True  True False]]\n"
          ]
        }
      ],
      "source": [
        "a = np.arange(10, dtype=np.int32).reshape((2,5))\n",
        "b = (a % 3 == 0)    # True for elements divisible by 3\n",
        "print(\"The 2D 'b' array:\\n\", b)\n",
        "print(\"   ... its shape is\", b.shape)\n",
        "print(\"   ... its data type is\", b.dtype)  # np.bool_\n",
        "\n",
        "c = (a % 2 != 0)    # True for elements not divisible by 2 (odd numbers)\n",
        "for i in range(2):\n",
        "  for j in range(5):\n",
        "    c[i,j] = a[i,j] % 2 != 0\n",
        "\n",
        "print(\"\\nThe 2D 'c' array:\\n\", c)\n",
        "print(\"   ... its shape is\", c.shape)\n",
        "print(\"   ... its data type is\", c.dtype)  # np.bool_\n",
        "\n",
        "print(\"\\nElementwise logical AND of the two arrays:\\n\", b & c)  # 'and' (1.2 and 1) => (True and True)\n",
        "np.logical_and(b, c)\n",
        "print(\"\\nElementwise logical OR of the two arrays:\\n\", b | c)\n",
        "print(\"\\nElementwise logical NOT of array 'b':\\n\", ~b)"
      ]
    },
    {
      "cell_type": "markdown",
      "source": [
        "### **HOMEWORK (Optional)**\n",
        "\n",
        "- **Exercise 1: Array Creation**  \n",
        "  Create a 1-dimensional numpy array from a Python list, a 2-dimensional array from a nested list, and a 3-dimensional array from a list of 2D arrays. Print the arrays along with their shapes.\n",
        "\n",
        "- **Exercise 2: Array Indexing**  \n",
        "  Given a 2D numpy array, use both positive and negative indexing to access and print specific elements (for example, the element at row 2, column 3, and the last element of the first row).\n",
        "\n",
        "- **Exercise 3: Array Slicing**  \n",
        "  Slice a 2D numpy array to extract a subarray. Experiment with different slicing parameters (start, stop, step) to extract rows, columns, or a block of elements from the array.\n",
        "\n",
        "- **Exercise 4: Boolean Indexing**  \n",
        "  Create a numpy array of integers and use a boolean condition to select and print all elements that are greater than a given threshold.\n",
        "\n",
        "- **Exercise 5: Array Arithmetic**  \n",
        "  Perform element-wise arithmetic operations on two numpy arrays of the same shape. For example, add, subtract, multiply, and divide them, and print the results. Also, explore using functions like `np.add` and `np.multiply`.\n",
        "\n",
        "- **Exercise 6: Aggregation Functions**  \n",
        "  Given a numpy array, calculate and print its sum, mean, median, minimum, and maximum. Additionally, use the `axis` parameter to compute these statistics along the rows and columns."
      ],
      "metadata": {
        "id": "4jUMpZCFhA4j"
      }
    },
    {
      "cell_type": "code",
      "source": [
        "import numpy as np"
      ],
      "metadata": {
        "id": "wg9d8FuOTBP4"
      },
      "execution_count": 2,
      "outputs": []
    },
    {
      "cell_type": "markdown",
      "source": [
        "**Exercise 1: Array Creation**<br>\n",
        "Create a 1-dimensional numpy array from a Python list, a 2-dimensional array from a nested list, and a 3-dimensional array from a list of 2D arrays. Print the arrays along with their shapes."
      ],
      "metadata": {
        "id": "Xl_kTTEbSKXw"
      }
    },
    {
      "cell_type": "code",
      "source": [
        "a = np.array([1,2,3], dtype= np.int32)\n",
        "print(a)\n",
        "print(a.shape)"
      ],
      "metadata": {
        "id": "nr5RYGrLSM_r",
        "outputId": "429bd83f-f935-4fc7-e2e3-e30bc3e33411",
        "colab": {
          "base_uri": "https://localhost:8080/"
        }
      },
      "execution_count": 8,
      "outputs": [
        {
          "output_type": "stream",
          "name": "stdout",
          "text": [
            "[1 2 3]\n",
            "(3,)\n"
          ]
        }
      ]
    },
    {
      "cell_type": "code",
      "source": [
        "b = np.array([[1,2,3],[4,5,6]], dtype= np.int32)\n",
        "print(b)\n",
        "print(b.shape)"
      ],
      "metadata": {
        "id": "jHgRYPPlS6PM",
        "outputId": "e7547482-f237-4a56-a164-aa4213dbba8b",
        "colab": {
          "base_uri": "https://localhost:8080/"
        }
      },
      "execution_count": 9,
      "outputs": [
        {
          "output_type": "stream",
          "name": "stdout",
          "text": [
            "[[1 2 3]\n",
            " [4 5 6]]\n",
            "(2, 3)\n"
          ]
        }
      ]
    },
    {
      "cell_type": "code",
      "source": [
        "c = np.array([[[1, 2, 3], [4, 5, 6]],[[7, 8, 9], [10, 11, 12]]], dtype= np.int32)\n",
        "print(c)\n",
        "print(c.shape)"
      ],
      "metadata": {
        "id": "jii4GvSoTlcJ",
        "outputId": "38f1f2f4-32c6-42c1-c9eb-9f8acde61c8e",
        "colab": {
          "base_uri": "https://localhost:8080/"
        }
      },
      "execution_count": 10,
      "outputs": [
        {
          "output_type": "stream",
          "name": "stdout",
          "text": [
            "[[[ 1  2  3]\n",
            "  [ 4  5  6]]\n",
            "\n",
            " [[ 7  8  9]\n",
            "  [10 11 12]]]\n",
            "(2, 2, 3)\n"
          ]
        }
      ]
    },
    {
      "cell_type": "markdown",
      "source": [
        "**Exercise 2: Array Indexing**<br>\n",
        "Given a 2D numpy array, use both positive and negative indexing to access and print specific elements (for example, the element at row 2, column 3, and the last element of the first row)."
      ],
      "metadata": {
        "id": "g5I2o1IuUKY4"
      }
    },
    {
      "cell_type": "code",
      "source": [
        "a = np.arange(6, dtype= np.int32).reshape((2,3))\n",
        "print(a)"
      ],
      "metadata": {
        "id": "5UAan1GOUNvz",
        "outputId": "233c3ac6-25e3-4e0e-c578-1cc7e50e38ed",
        "colab": {
          "base_uri": "https://localhost:8080/"
        }
      },
      "execution_count": 11,
      "outputs": [
        {
          "output_type": "stream",
          "name": "stdout",
          "text": [
            "[[0 1 2]\n",
            " [3 4 5]]\n"
          ]
        }
      ]
    },
    {
      "cell_type": "code",
      "source": [
        "print(a[1,2])"
      ],
      "metadata": {
        "id": "A6qLKUUQUxL0",
        "outputId": "e1a301b7-b226-4939-faa6-a6f5074ebee7",
        "colab": {
          "base_uri": "https://localhost:8080/"
        }
      },
      "execution_count": 12,
      "outputs": [
        {
          "output_type": "stream",
          "name": "stdout",
          "text": [
            "5\n"
          ]
        }
      ]
    },
    {
      "cell_type": "code",
      "source": [
        "print(a[0,-1])"
      ],
      "metadata": {
        "id": "OJCricXFU4q0",
        "outputId": "5fdcc33c-a45a-41e1-fbc4-3b2f2b5183b5",
        "colab": {
          "base_uri": "https://localhost:8080/"
        }
      },
      "execution_count": 13,
      "outputs": [
        {
          "output_type": "stream",
          "name": "stdout",
          "text": [
            "2\n"
          ]
        }
      ]
    },
    {
      "cell_type": "markdown",
      "source": [
        "**Exercise 3: Array Slicing**<br>\n",
        "Slice a 2D numpy array to extract a subarray. Experiment with different slicing parameters (start, stop, step) to extract rows, columns, or a block of elements from the array."
      ],
      "metadata": {
        "id": "wPpJbIYUU96Q"
      }
    },
    {
      "cell_type": "code",
      "source": [
        "print(a[0,1:3])"
      ],
      "metadata": {
        "id": "BBbm_juzVE_1",
        "outputId": "2ecfa426-0d4d-415e-bd96-e17ff9e10261",
        "colab": {
          "base_uri": "https://localhost:8080/"
        }
      },
      "execution_count": 32,
      "outputs": [
        {
          "output_type": "stream",
          "name": "stdout",
          "text": [
            "[1 2]\n"
          ]
        }
      ]
    },
    {
      "cell_type": "markdown",
      "source": [
        "**Exercise 4: Boolean Indexing**<br>\n",
        "Create a numpy array of integers and use a boolean condition to select and print all elements that are greater than a given threshold."
      ],
      "metadata": {
        "id": "n7KifD79W95n"
      }
    },
    {
      "cell_type": "code",
      "source": [
        "print(a > 3)"
      ],
      "metadata": {
        "id": "xlcPk4VIXAb3",
        "outputId": "a1ab9c03-8297-4dc4-9368-0b3184903826",
        "colab": {
          "base_uri": "https://localhost:8080/"
        }
      },
      "execution_count": 35,
      "outputs": [
        {
          "output_type": "stream",
          "name": "stdout",
          "text": [
            "[[False False False]\n",
            " [False  True  True]]\n"
          ]
        }
      ]
    },
    {
      "cell_type": "markdown",
      "source": [
        "**Exercise 5: Array Arithmetic**<br>\n",
        "Perform element-wise arithmetic operations on two numpy arrays of the same shape. For example, add, subtract, multiply, and divide them, and print the results. Also, explore using functions like np.add and np.multiply."
      ],
      "metadata": {
        "id": "57duIxFNXcVm"
      }
    },
    {
      "cell_type": "code",
      "source": [
        "b = np.array([1,2], dtype= np.int32).reshape(2,1)\n",
        "print(b)"
      ],
      "metadata": {
        "id": "LwAOuLa7XnuD",
        "outputId": "45ba4fb5-05b8-4642-ef56-228c02cbe3cf",
        "colab": {
          "base_uri": "https://localhost:8080/"
        }
      },
      "execution_count": 37,
      "outputs": [
        {
          "output_type": "stream",
          "name": "stdout",
          "text": [
            "[[1]\n",
            " [2]]\n"
          ]
        }
      ]
    },
    {
      "cell_type": "code",
      "source": [
        "a + b"
      ],
      "metadata": {
        "id": "o4afOuQ0X73k",
        "outputId": "71ffc5c0-1489-42ee-d3dd-00eaa051ed17",
        "colab": {
          "base_uri": "https://localhost:8080/"
        }
      },
      "execution_count": 38,
      "outputs": [
        {
          "output_type": "execute_result",
          "data": {
            "text/plain": [
              "array([[1, 2, 3],\n",
              "       [5, 6, 7]], dtype=int32)"
            ]
          },
          "metadata": {},
          "execution_count": 38
        }
      ]
    },
    {
      "cell_type": "markdown",
      "source": [
        "**Exercise 6: Aggregation Functions**<br>\n",
        "Given a numpy array, calculate and print its sum, mean, median, minimum, and maximum. Additionally, use the axis parameter to compute these statistics along the rows and columns."
      ],
      "metadata": {
        "id": "Oo36dodDYJUm"
      }
    },
    {
      "cell_type": "code",
      "source": [
        "print(a)\n",
        "print(np.sum(a, axis= 0))\n",
        "print(np.mean(a))\n",
        "print(np.median(a))\n",
        "print(np.min(a))\n",
        "print(np.max(a))"
      ],
      "metadata": {
        "id": "45M5uvSqYMlu",
        "outputId": "686b9684-0e91-4aa5-a91e-1ffc70141e2f",
        "colab": {
          "base_uri": "https://localhost:8080/"
        }
      },
      "execution_count": 49,
      "outputs": [
        {
          "output_type": "stream",
          "name": "stdout",
          "text": [
            "[[0 1 2]\n",
            " [3 4 5]]\n",
            "[3 5 7]\n",
            "2.5\n",
            "2.5\n",
            "0\n",
            "5\n"
          ]
        }
      ]
    }
  ],
  "metadata": {
    "colab": {
      "provenance": [],
      "include_colab_link": true
    },
    "kernelspec": {
      "display_name": "Python 3 (ipykernel)",
      "language": "python",
      "name": "python3"
    },
    "language_info": {
      "codemirror_mode": {
        "name": "ipython",
        "version": 3
      },
      "file_extension": ".py",
      "mimetype": "text/x-python",
      "name": "python",
      "nbconvert_exporter": "python",
      "pygments_lexer": "ipython3",
      "version": "3.11.3"
    }
  },
  "nbformat": 4,
  "nbformat_minor": 0
}