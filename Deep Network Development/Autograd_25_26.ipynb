{
  "cells": [
    {
      "cell_type": "markdown",
      "metadata": {
        "id": "view-in-github",
        "colab_type": "text"
      },
      "source": [
        "<a href=\"https://colab.research.google.com/github/x3gan/elte-msc/blob/main/Deep%20Network%20Development/Autograd_25_26.ipynb\" target=\"_parent\"><img src=\"https://colab.research.google.com/assets/colab-badge.svg\" alt=\"Open In Colab\"/></a>"
      ]
    },
    {
      "cell_type": "markdown",
      "metadata": {
        "id": "bdNSWJY5bDz5"
      },
      "source": [
        "# **PyTorch Autograd**\n",
        "\n",
        "<div style=\"border: 3px solid #222; padding: 16px; border-radius: 10px; background-color: #1c1f26; font-family: 'Helvetica Neue', Helvetica, Arial, sans-serif; color: #e0e0e0;\">\n",
        "  <div style=\"display: flex; align-items: center; gap: 8px; margin-top: 12px;\">\n",
        "    <span style=\"font-size: 24px; color: #ff5555;\">&#128274;</span>\n",
        "    <span style=\"font-size: 16px;\"><strong>Project:</strong> Linear Regression</span>\n",
        "  </div>\n",
        "  <div style=\"display: flex; align-items: center; gap: 8px; margin-top: 8px;\">\n",
        "    <span style=\"font-size: 20px; color: #ff5555;\">&#128218;</span>\n",
        "    <span style=\"font-size: 16px;\"><strong>Course:</strong> Deep Network Development</span>\n",
        "  </div>\n",
        "  <div style=\"margin-top: 12px; font-size: 14px;\">\n",
        "    <span style=\"font-size: 18px; color: #6e8192;\">&#128100;</span>\n",
        "    <span style=\"font-weight: bold;\"><strong>Authors:</strong></span> Tamás Takács, Imre Molnár (PhD students, Department of Artificial Intelligence, Eötvös Loránd University)\n",
        "  </div>\n",
        "</div>\n",
        "<hr style=\"border: none; border-top: 2px solid #444;\">\n",
        "<br>\n",
        "\n",
        "<img src=\"https://i.ibb.co/QqX9V4N/News-Image-2023-11-22-T133344-154-1.png\" alt=\"News-Image-2023-11-22-T133344-154-1\" border=\"0\">\n",
        "\n",
        "PyTorch Autograd is a powerful automatic differentiation engine that dynamically builds a computation graph as operations are executed, allowing it to automatically compute gradients for tensor operations during backpropagation. This feature simplifies model training and debugging by enabling seamless gradient calculation for complex neural network architectures without the need for manual derivative computations."
      ]
    },
    {
      "cell_type": "code",
      "source": [
        "# @title Roadmap Generator\n",
        "%%capture flowchart_output\n",
        "from graphviz import Digraph\n",
        "\n",
        "def create_autograd_flowchart(output_filename='autograd_flowchart'):\n",
        "    dot = Digraph(name='PyTorchAutograd', format='png')\n",
        "    dot.attr(rankdir='LR')\n",
        "    dot.attr('node', shape='box', style='filled', fontsize='12', fontname='Arial')\n",
        "\n",
        "    # Nodes (with difficulties: green = easy, yellow = moderate, red = difficult)\n",
        "    dot.node('Import', 'Import Libraries\\n(Easy)', fillcolor='#A0E7A0')\n",
        "    dot.node('SimpleComp', 'Define Simple Function\\n(y = 3x² + 4x + 2)\\n(Easy)', fillcolor='#A0E7A0')\n",
        "    dot.node('Backward', 'Compute Gradient with backward()\\n(Easy)', fillcolor='#A0E7A0')\n",
        "    dot.node('Accumulation', 'Demonstrate Gradient Accumulation\\n(Moderate)', fillcolor='#F6D49A')\n",
        "    dot.node('Detach', 'Convert Tensor to NumPy using detach()\\n(Moderate)', fillcolor='#F6D49A')\n",
        "    dot.node('ComplexGraph', 'Build & Evaluate Complex Graph\\n(Moderate)', fillcolor='#F6D49A')\n",
        "\n",
        "    # Define connections\n",
        "    dot.edge('Import', 'SimpleComp')\n",
        "    dot.edge('SimpleComp', 'Backward')\n",
        "    dot.edge('Backward', 'Accumulation')\n",
        "    dot.edge('Accumulation', 'Detach')\n",
        "    dot.edge('Detach', 'ComplexGraph')\n",
        "\n",
        "    dot.render(output_filename, view=False)\n",
        "\n",
        "create_autograd_flowchart('autograd_flowchart')\n"
      ],
      "metadata": {
        "id": "2jokFiD-nx6t"
      },
      "execution_count": null,
      "outputs": []
    },
    {
      "cell_type": "markdown",
      "source": [
        "## **Necessary Imports**"
      ],
      "metadata": {
        "id": "oCPKUiudNyGj"
      }
    },
    {
      "cell_type": "code",
      "execution_count": null,
      "metadata": {
        "id": "I7dPOplNsuFW"
      },
      "outputs": [],
      "source": [
        "import numpy as np\n",
        "import torch\n",
        "import matplotlib.pyplot as plt\n",
        "from IPython.display import Image as IMG"
      ]
    },
    {
      "cell_type": "code",
      "source": [
        "IMG('autograd_flowchart.png')"
      ],
      "metadata": {
        "colab": {
          "base_uri": "https://localhost:8080/",
          "height": 90
        },
        "id": "zsHcOA3VnyRF",
        "outputId": "2b7bc524-ac3e-4297-c2e6-2f9c0f925871"
      },
      "execution_count": null,
      "outputs": [
        {
          "output_type": "execute_result",
          "data": {
            "image/png": "[encoded data removed]",
            "text/plain": [
              "<IPython.core.display.Image object>"
            ]
          },
          "metadata": {},
          "execution_count": 4
        }
      ]
    },
    {
      "cell_type": "markdown",
      "metadata": {
        "id": "j2lwzclYsvTh"
      },
      "source": [
        "## **Computation graphs and Autograd**\n"
      ]
    },
    {
      "cell_type": "markdown",
      "metadata": {
        "id": "jGhxHOvrcbjZ"
      },
      "source": [
        "$ y = 3x^2 + 4x + 2$\n",
        "\n",
        "`x` = `5`  \n",
        "$ y = 3*5^2 + 4*5 + 2 $\\\n",
        "$ y = 3*25 + 20 + 2$\\\n",
        "$ y = 75 + 20 + 2 $\\\n",
        "$ y = 97 $"
      ]
    },
    {
      "cell_type": "code",
      "execution_count": null,
      "metadata": {
        "id": "rjWus8yEtKbX"
      },
      "outputs": [],
      "source": [
        "#set requires_grad=true if you need the grad later\n",
        "x = torch.tensor(5., requires_grad=True)"
      ]
    },
    {
      "cell_type": "code",
      "execution_count": null,
      "metadata": {
        "colab": {
          "base_uri": "https://localhost:8080/"
        },
        "id": "0RieAHJUtDY4",
        "outputId": "562671fe-2df7-4568-a78a-2b65f021fb3c"
      },
      "outputs": [
        {
          "output_type": "stream",
          "name": "stdout",
          "text": [
            "Variable                    Type          Data/Info\n",
            "---------------------------------------------------\n",
            "Digraph                     type          <class 'graphviz.graphs.Digraph'>\n",
            "IMG                         type          <class 'IPython.core.display.Image'>\n",
            "create_autograd_flowchart   function      <function create_autograd<...>wchart at 0x78273374a160>\n",
            "flowchart_output            CapturedIO    \n",
            "np                          module        <module 'numpy' from '/us<...>kages/numpy/__init__.py'>\n",
            "plt                         module        <module 'matplotlib.pyplo<...>es/matplotlib/pyplot.py'>\n",
            "torch                       module        <module 'torch' from '/us<...>kages/torch/__init__.py'>\n",
            "x                           Tensor        tensor(5., requires_grad=True)\n",
            "y                           Tensor        tensor(97., grad_fn=<AddBackward0>)\n"
          ]
        }
      ],
      "source": [
        "y = 3*x**2 + 4*x + 2\n",
        "%whos"
      ]
    },
    {
      "cell_type": "markdown",
      "metadata": {
        "id": "8xiQWtri91yC"
      },
      "source": [
        "The `backward()` method is used to compute the gradient during the backward pass in a neural network."
      ]
    },
    {
      "cell_type": "markdown",
      "metadata": {
        "id": "KErsNiOktqLe"
      },
      "source": [
        "The derivative of `y` with respect to the variable `x`.\\\n",
        "$\\frac{dy}{dx} = 2*3x + 4 = 6x + 4$\\\n",
        "`x` = `5`\n",
        "\n",
        "$6x + 4 = 6*5 + 4 = 30 + 4 = 34$\n"
      ]
    },
    {
      "cell_type": "code",
      "execution_count": null,
      "metadata": {
        "id": "0OeXqsETualB"
      },
      "outputs": [],
      "source": [
        "#y.backward()\n",
        "x.grad"
      ]
    },
    {
      "cell_type": "markdown",
      "metadata": {
        "id": "ZnvEtyskfybZ"
      },
      "source": [
        "PyTorch accumulates the derivatives (gradients) on each subsequent backward passes. This is convinient during training **R**ecurrent **N**eural **N**etworks \\\\\n",
        "To set it zero in each iteration you can use `grad.zero_` function on a `Tensor`.\n"
      ]
    },
    {
      "cell_type": "code",
      "execution_count": null,
      "metadata": {
        "colab": {
          "base_uri": "https://localhost:8080/"
        },
        "id": "Mwf4j7k5ueSN",
        "outputId": "f0be8683-29bf-4579-cb45-5395d9418f6c"
      },
      "outputs": [
        {
          "output_type": "stream",
          "name": "stdout",
          "text": [
            "tensor(34.)\n",
            "tensor(68.)\n",
            "tensor(102.)\n"
          ]
        }
      ],
      "source": [
        "x = torch.tensor(5., requires_grad=True)\n",
        "\n",
        "for i in range(3):\n",
        "    y = 3*x**2 + 4*x + 2\n",
        "    y.backward()\n",
        "    print(x.grad)\n",
        "    #x.grad.zero_() ## pytorch accumulates the derivatives by default\n"
      ]
    },
    {
      "cell_type": "markdown",
      "metadata": {
        "id": "q1pCcVWnvHCg"
      },
      "source": [
        "to convert a `torch.tensor` to `numpy.ndarray` you have to explicitly remove the computational graph from the tensor using `detach()` command"
      ]
    },
    {
      "cell_type": "code",
      "execution_count": null,
      "metadata": {
        "colab": {
          "base_uri": "https://localhost:8080/"
        },
        "id": "YCryTTkR7W3j",
        "outputId": "4ae2b0bf-4cfc-47a1-d9fd-aedc5be9328b"
      },
      "outputs": [
        {
          "output_type": "stream",
          "name": "stdout",
          "text": [
            "np_x type: <class 'numpy.ndarray'>\n",
            "np_x: 5.0\n"
          ]
        }
      ],
      "source": [
        "x = torch.tensor(5., requires_grad=False) # torch.tensor can not converted to numpy if grad is True\n",
        "np_x = x.numpy()\n",
        "np_x = x.detach().numpy()\n",
        "print(f'np_x type: {type(np_x)}')\n",
        "print(f'np_x: {np_x}')"
      ]
    },
    {
      "cell_type": "markdown",
      "metadata": {
        "id": "A2_-iZ7Jw-Wv"
      },
      "source": [
        "A bit more complex calculation of gradients"
      ]
    },
    {
      "cell_type": "markdown",
      "metadata": {
        "id": "7Qx-TE3m6DVM"
      },
      "source": [
        "$e = \\underbrace{(a * b)}_\\text{u} + \\underbrace{c * \\underbrace{log(d)}_\\text{w}}_\\text{v}$"
      ]
    },
    {
      "cell_type": "code",
      "execution_count": null,
      "metadata": {
        "colab": {
          "base_uri": "https://localhost:8080/",
          "height": 703
        },
        "id": "Dy4XfjKCyPDI",
        "outputId": "ec6328a3-aded-4c3a-9e4d-1bbe4df4d97f"
      },
      "outputs": [
        {
          "output_type": "stream",
          "name": "stdout",
          "text": [
            "digraph G {\n",
            "\te\n",
            "\tu\n",
            "\tv\n",
            "\tw\n",
            "\ta [color=transparent]\n",
            "\tb [color=transparent]\n",
            "\tc [color=transparent]\n",
            "\td [color=transparent]\n",
            "\te -> u [dir=back]\n",
            "\te -> v [dir=back]\n",
            "\tv -> w [dir=back]\n",
            "\tv -> c [dir=back]\n",
            "\tu -> a [dir=back]\n",
            "\tu -> b [dir=back]\n",
            "\tw -> d [dir=back]\n",
            "}\n",
            "\n"
          ]
        },
        {
          "output_type": "execute_result",
          "data": {
            "image/svg+xml": "<?xml version=\"1.0\" encoding=\"UTF-8\" standalone=\"no\"?>\n<!DOCTYPE svg PUBLIC \"-//W3C//DTD SVG 1.1//EN\"\n \"http://www.w3.org/Graphics/SVG/1.1/DTD/svg11.dtd\">\n<!-- Generated by graphviz version 2.43.0 (0)\n -->\n<!-- Title: G Pages: 1 -->\n<svg width=\"278pt\" height=\"260pt\"\n viewBox=\"0.00 0.00 278.00 260.00\" xmlns=\"http://www.w3.org/2000/svg\" xmlns:xlink=\"http://www.w3.org/1999/xlink\">\n<g id=\"graph0\" class=\"graph\" transform=\"scale(1 1) rotate(0) translate(4 256)\">\n<title>G</title>\n<polygon fill=\"white\" stroke=\"transparent\" points=\"-4,4 -4,-256 274,-256 274,4 -4,4\"/>\n<!-- e -->\n<g id=\"node1\" class=\"node\">\n<title>e</title>\n<ellipse fill=\"none\" stroke=\"black\" cx=\"135\" cy=\"-234\" rx=\"27\" ry=\"18\"/>\n<text text-anchor=\"middle\" x=\"135\" y=\"-230.3\" font-family=\"Times,serif\" font-size=\"14.00\">e</text>\n</g>\n<!-- u -->\n<g id=\"node2\" class=\"node\">\n<title>u</title>\n<ellipse fill=\"none\" stroke=\"black\" cx=\"99\" cy=\"-162\" rx=\"27\" ry=\"18\"/>\n<text text-anchor=\"middle\" x=\"99\" y=\"-158.3\" font-family=\"Times,serif\" font-size=\"14.00\">u</text>\n</g>\n<!-- e&#45;&gt;u -->\n<g id=\"edge1\" class=\"edge\">\n<title>e&#45;&gt;u</title>\n<path fill=\"none\" stroke=\"black\" d=\"M121.99,-207.7C117.09,-198.18 111.66,-187.61 107.3,-179.15\"/>\n<polygon fill=\"black\" stroke=\"black\" points=\"118.96,-209.47 126.65,-216.76 125.19,-206.27 118.96,-209.47\"/>\n</g>\n<!-- v -->\n<g id=\"node3\" class=\"node\">\n<title>v</title>\n<ellipse fill=\"none\" stroke=\"black\" cx=\"171\" cy=\"-162\" rx=\"27\" ry=\"18\"/>\n<text text-anchor=\"middle\" x=\"171\" y=\"-158.3\" font-family=\"Times,serif\" font-size=\"14.00\">v</text>\n</g>\n<!-- e&#45;&gt;v -->\n<g id=\"edge2\" class=\"edge\">\n<title>e&#45;&gt;v</title>\n<path fill=\"none\" stroke=\"black\" d=\"M148.01,-207.7C152.91,-198.18 158.34,-187.61 162.7,-179.15\"/>\n<polygon fill=\"black\" stroke=\"black\" points=\"144.81,-206.27 143.35,-216.76 151.04,-209.47 144.81,-206.27\"/>\n</g>\n<!-- a -->\n<g id=\"node5\" class=\"node\">\n<title>a</title>\n<ellipse fill=\"none\" stroke=\"transparent\" cx=\"27\" cy=\"-90\" rx=\"27\" ry=\"18\"/>\n<text text-anchor=\"middle\" x=\"27\" y=\"-86.3\" font-family=\"Times,serif\" font-size=\"14.00\">a</text>\n</g>\n<!-- u&#45;&gt;a -->\n<g id=\"edge5\" class=\"edge\">\n<title>u&#45;&gt;a</title>\n<path fill=\"none\" stroke=\"black\" d=\"M76.96,-139.57C65.55,-128.48 51.93,-115.24 41.8,-105.38\"/>\n<polygon fill=\"black\" stroke=\"black\" points=\"74.82,-142.37 84.43,-146.83 79.7,-137.35 74.82,-142.37\"/>\n</g>\n<!-- b -->\n<g id=\"node6\" class=\"node\">\n<title>b</title>\n<ellipse fill=\"none\" stroke=\"transparent\" cx=\"99\" cy=\"-90\" rx=\"27\" ry=\"18\"/>\n<text text-anchor=\"middle\" x=\"99\" y=\"-86.3\" font-family=\"Times,serif\" font-size=\"14.00\">b</text>\n</g>\n<!-- u&#45;&gt;b -->\n<g id=\"edge6\" class=\"edge\">\n<title>u&#45;&gt;b</title>\n<path fill=\"none\" stroke=\"black\" d=\"M99,-133.67C99,-125.05 99,-115.79 99,-108.1\"/>\n<polygon fill=\"black\" stroke=\"black\" points=\"95.5,-133.7 99,-143.7 102.5,-133.7 95.5,-133.7\"/>\n</g>\n<!-- w -->\n<g id=\"node4\" class=\"node\">\n<title>w</title>\n<ellipse fill=\"none\" stroke=\"black\" cx=\"171\" cy=\"-90\" rx=\"27\" ry=\"18\"/>\n<text text-anchor=\"middle\" x=\"171\" y=\"-86.3\" font-family=\"Times,serif\" font-size=\"14.00\">w</text>\n</g>\n<!-- v&#45;&gt;w -->\n<g id=\"edge3\" class=\"edge\">\n<title>v&#45;&gt;w</title>\n<path fill=\"none\" stroke=\"black\" d=\"M171,-133.67C171,-125.05 171,-115.79 171,-108.1\"/>\n<polygon fill=\"black\" stroke=\"black\" points=\"167.5,-133.7 171,-143.7 174.5,-133.7 167.5,-133.7\"/>\n</g>\n<!-- c -->\n<g id=\"node7\" class=\"node\">\n<title>c</title>\n<ellipse fill=\"none\" stroke=\"transparent\" cx=\"243\" cy=\"-90\" rx=\"27\" ry=\"18\"/>\n<text text-anchor=\"middle\" x=\"243\" y=\"-86.3\" font-family=\"Times,serif\" font-size=\"14.00\">c</text>\n</g>\n<!-- v&#45;&gt;c -->\n<g id=\"edge4\" class=\"edge\">\n<title>v&#45;&gt;c</title>\n<path fill=\"none\" stroke=\"black\" d=\"M193.04,-139.57C204.45,-128.48 218.07,-115.24 228.2,-105.38\"/>\n<polygon fill=\"black\" stroke=\"black\" points=\"190.3,-137.35 185.57,-146.83 195.18,-142.37 190.3,-137.35\"/>\n</g>\n<!-- d -->\n<g id=\"node8\" class=\"node\">\n<title>d</title>\n<ellipse fill=\"none\" stroke=\"transparent\" cx=\"171\" cy=\"-18\" rx=\"27\" ry=\"18\"/>\n<text text-anchor=\"middle\" x=\"171\" y=\"-14.3\" font-family=\"Times,serif\" font-size=\"14.00\">d</text>\n</g>\n<!-- w&#45;&gt;d -->\n<g id=\"edge7\" class=\"edge\">\n<title>w&#45;&gt;d</title>\n<path fill=\"none\" stroke=\"black\" d=\"M171,-61.67C171,-53.05 171,-43.79 171,-36.1\"/>\n<polygon fill=\"black\" stroke=\"black\" points=\"167.5,-61.7 171,-71.7 174.5,-61.7 167.5,-61.7\"/>\n</g>\n</g>\n</svg>\n",
            "text/plain": [
              "<graphviz.graphs.Digraph at 0x7826547cf910>"
            ]
          },
          "metadata": {},
          "execution_count": 10
        }
      ],
      "source": [
        "# conda install python-graphviz\n",
        "import graphviz #graphviz, python-graphviz, (pydot)\n",
        "g = graphviz.Digraph('G', filename='hello.gv')\n",
        "g.node('e')\n",
        "g.node('u')\n",
        "g.node('v')\n",
        "g.node('w')\n",
        "g.node('a', color='transparent')\n",
        "g.node('b', color='transparent')\n",
        "g.node('c', color='transparent')\n",
        "g.node('d', color='transparent')\n",
        "g.edge('e', 'u', dir='back')\n",
        "g.edge('e', 'v', dir='back')\n",
        "g.edge('v', 'w', dir='back')\n",
        "g.edge('v', 'c', dir='back')\n",
        "g.edge('u', 'a', dir='back')\n",
        "g.edge('u', 'b', dir='back')\n",
        "g.edge('w', 'd', dir='back')\n",
        "print(g.source)\n",
        "g"
      ]
    },
    {
      "cell_type": "code",
      "execution_count": null,
      "metadata": {
        "colab": {
          "base_uri": "https://localhost:8080/",
          "height": 439
        },
        "id": "IkGKqCi_FMFA",
        "outputId": "f31bb1ec-97a6-4906-b627-768299cf96ac"
      },
      "outputs": [
        {
          "output_type": "execute_result",
          "data": {
            "image/svg+xml": "<?xml version=\"1.0\" encoding=\"UTF-8\" standalone=\"no\"?>\n<!DOCTYPE svg PUBLIC \"-//W3C//DTD SVG 1.1//EN\"\n \"http://www.w3.org/Graphics/SVG/1.1/DTD/svg11.dtd\">\n<!-- Generated by graphviz version 2.43.0 (0)\n -->\n<!-- Title: G Pages: 1 -->\n<svg width=\"369pt\" height=\"313pt\"\n viewBox=\"0.00 0.00 369.49 313.22\" xmlns=\"http://www.w3.org/2000/svg\" xmlns:xlink=\"http://www.w3.org/1999/xlink\">\n<g id=\"graph0\" class=\"graph\" transform=\"scale(1 1) rotate(0) translate(4 309.22)\">\n<title>G</title>\n<polygon fill=\"white\" stroke=\"transparent\" points=\"-4,4 -4,-309.22 365.49,-309.22 365.49,4 -4,4\"/>\n<!-- e\nf(e) = u+v -->\n<g id=\"node1\" class=\"node\">\n<title>e\nf(e) = u+v</title>\n<ellipse fill=\"none\" stroke=\"black\" cx=\"164.25\" cy=\"-278.35\" rx=\"52.15\" ry=\"26.74\"/>\n<text text-anchor=\"middle\" x=\"164.25\" y=\"-282.15\" font-family=\"Times,serif\" font-size=\"14.00\">e</text>\n<text text-anchor=\"middle\" x=\"164.25\" y=\"-267.15\" font-family=\"Times,serif\" font-size=\"14.00\">f(e) = u+v</text>\n</g>\n<!-- u\nf(u) = a*b -->\n<g id=\"node2\" class=\"node\">\n<title>u\nf(u) = a*b</title>\n<ellipse fill=\"none\" stroke=\"black\" cx=\"103.25\" cy=\"-188.61\" rx=\"50.82\" ry=\"26.74\"/>\n<text text-anchor=\"middle\" x=\"103.25\" y=\"-192.41\" font-family=\"Times,serif\" font-size=\"14.00\">u</text>\n<text text-anchor=\"middle\" x=\"103.25\" y=\"-177.41\" font-family=\"Times,serif\" font-size=\"14.00\">f(u) = a*b</text>\n</g>\n<!-- e\nf(e) = u+v&#45;&gt;u\nf(u) = a*b -->\n<g id=\"edge1\" class=\"edge\">\n<title>e\nf(e) = u+v&#45;&gt;u\nf(u) = a*b</title>\n<path fill=\"none\" stroke=\"black\" d=\"M141.54,-244.69C134.53,-234.6 126.93,-223.67 120.36,-214.22\"/>\n<polygon fill=\"black\" stroke=\"black\" points=\"138.67,-246.7 147.26,-252.91 144.42,-242.7 138.67,-246.7\"/>\n</g>\n<!-- v\nf(v) = w*c -->\n<g id=\"node3\" class=\"node\">\n<title>v\nf(v) = w*c</title>\n<ellipse fill=\"none\" stroke=\"black\" cx=\"225.25\" cy=\"-188.61\" rx=\"53.07\" ry=\"26.74\"/>\n<text text-anchor=\"middle\" x=\"225.25\" y=\"-192.41\" font-family=\"Times,serif\" font-size=\"14.00\">v</text>\n<text text-anchor=\"middle\" x=\"225.25\" y=\"-177.41\" font-family=\"Times,serif\" font-size=\"14.00\">f(v) = w*c</text>\n</g>\n<!-- e\nf(e) = u+v&#45;&gt;v\nf(v) = w*c -->\n<g id=\"edge2\" class=\"edge\">\n<title>e\nf(e) = u+v&#45;&gt;v\nf(v) = w*c</title>\n<path fill=\"none\" stroke=\"black\" d=\"M186.96,-244.69C193.97,-234.6 201.57,-223.67 208.14,-214.22\"/>\n<polygon fill=\"black\" stroke=\"black\" points=\"184.07,-242.7 181.24,-252.91 189.82,-246.7 184.07,-242.7\"/>\n</g>\n<!-- a = 2 -->\n<g id=\"node5\" class=\"node\">\n<title>a = 2</title>\n<ellipse fill=\"none\" stroke=\"transparent\" cx=\"29.25\" cy=\"-98.87\" rx=\"29.5\" ry=\"18\"/>\n<text text-anchor=\"middle\" x=\"29.25\" y=\"-95.17\" font-family=\"Times,serif\" font-size=\"14.00\">a = 2</text>\n</g>\n<!-- u\nf(u) = a*b&#45;&gt;a = 2 -->\n<g id=\"edge5\" class=\"edge\">\n<title>u\nf(u) = a*b&#45;&gt;a = 2</title>\n<path fill=\"none\" stroke=\"black\" d=\"M76.38,-155.75C64.74,-141.95 51.65,-126.43 42.22,-115.25\"/>\n<polygon fill=\"black\" stroke=\"black\" points=\"73.9,-158.25 83.03,-163.63 79.25,-153.73 73.9,-158.25\"/>\n</g>\n<!-- b = 3 -->\n<g id=\"node6\" class=\"node\">\n<title>b = 3</title>\n<ellipse fill=\"none\" stroke=\"transparent\" cx=\"106.25\" cy=\"-98.87\" rx=\"29.8\" ry=\"18\"/>\n<text text-anchor=\"middle\" x=\"106.25\" y=\"-95.17\" font-family=\"Times,serif\" font-size=\"14.00\">b = 3</text>\n</g>\n<!-- u\nf(u) = a*b&#45;&gt;b = 3 -->\n<g id=\"edge6\" class=\"edge\">\n<title>u\nf(u) = a*b&#45;&gt;b = 3</title>\n<path fill=\"none\" stroke=\"black\" d=\"M104.49,-151.17C104.9,-139.34 105.33,-126.77 105.66,-117.03\"/>\n<polygon fill=\"black\" stroke=\"black\" points=\"100.99,-151.17 104.15,-161.29 107.99,-151.41 100.99,-151.17\"/>\n</g>\n<!-- w\nf(w) = log(d) -->\n<g id=\"node4\" class=\"node\">\n<title>w\nf(w) = log(d)</title>\n<ellipse fill=\"none\" stroke=\"black\" cx=\"222.25\" cy=\"-98.87\" rx=\"62.87\" ry=\"26.74\"/>\n<text text-anchor=\"middle\" x=\"222.25\" y=\"-102.67\" font-family=\"Times,serif\" font-size=\"14.00\">w</text>\n<text text-anchor=\"middle\" x=\"222.25\" y=\"-87.67\" font-family=\"Times,serif\" font-size=\"14.00\">f(w) = log(d)</text>\n</g>\n<!-- v\nf(v) = w*c&#45;&gt;w\nf(w) = log(d) -->\n<g id=\"edge3\" class=\"edge\">\n<title>v\nf(v) = w*c&#45;&gt;w\nf(w) = log(d)</title>\n<path fill=\"none\" stroke=\"black\" d=\"M224,-151.2C223.71,-142.7 223.41,-133.82 223.14,-125.87\"/>\n<polygon fill=\"black\" stroke=\"black\" points=\"220.51,-151.41 224.35,-161.29 227.5,-151.17 220.51,-151.41\"/>\n</g>\n<!-- c = 5 -->\n<g id=\"node7\" class=\"node\">\n<title>c = 5</title>\n<ellipse fill=\"none\" stroke=\"transparent\" cx=\"332.25\" cy=\"-98.87\" rx=\"29.5\" ry=\"18\"/>\n<text text-anchor=\"middle\" x=\"332.25\" y=\"-95.17\" font-family=\"Times,serif\" font-size=\"14.00\">c = 5</text>\n</g>\n<!-- v\nf(v) = w*c&#45;&gt;c = 5 -->\n<g id=\"edge4\" class=\"edge\">\n<title>v\nf(v) = w*c&#45;&gt;c = 5</title>\n<path fill=\"none\" stroke=\"black\" d=\"M260.45,-158.75C278.88,-143.63 300.61,-125.82 315.29,-113.77\"/>\n<polygon fill=\"black\" stroke=\"black\" points=\"257.76,-156.42 252.25,-165.47 262.2,-161.84 257.76,-156.42\"/>\n</g>\n<!-- d = 10 -->\n<g id=\"node8\" class=\"node\">\n<title>d = 10</title>\n<ellipse fill=\"none\" stroke=\"transparent\" cx=\"222.25\" cy=\"-18\" rx=\"34.39\" ry=\"18\"/>\n<text text-anchor=\"middle\" x=\"222.25\" y=\"-14.3\" font-family=\"Times,serif\" font-size=\"14.00\">d = 10</text>\n</g>\n<!-- w\nf(w) = log(d)&#45;&gt;d = 10 -->\n<g id=\"edge7\" class=\"edge\">\n<title>w\nf(w) = log(d)&#45;&gt;d = 10</title>\n<path fill=\"none\" stroke=\"black\" d=\"M222.25,-61.47C222.25,-52.67 222.25,-43.66 222.25,-36.22\"/>\n<polygon fill=\"black\" stroke=\"black\" points=\"218.75,-61.61 222.25,-71.61 225.75,-61.61 218.75,-61.61\"/>\n</g>\n</g>\n</svg>\n",
            "text/plain": [
              "<graphviz.graphs.Digraph at 0x7826547cfa50>"
            ]
          },
          "metadata": {},
          "execution_count": 11
        }
      ],
      "source": [
        "g = graphviz.Digraph('G', filename='hello.gv')\n",
        "g.node('e\\nf(e) = u+v')\n",
        "g.node('u\\nf(u) = a*b')\n",
        "g.node('v\\nf(v) = w*c')\n",
        "g.node('w\\nf(w) = log(d)')\n",
        "g.node('a = 2', color='transparent')\n",
        "g.node('b = 3', color='transparent')\n",
        "g.node('c = 5', color='transparent')\n",
        "g.node('d = 10', color='transparent')\n",
        "g.edge('e\\nf(e) = u+v', 'u\\nf(u) = a*b', dir='back')\n",
        "g.edge('e\\nf(e) = u+v', 'v\\nf(v) = w*c', dir='back')\n",
        "g.edge('v\\nf(v) = w*c', 'w\\nf(w) = log(d)', dir='back')\n",
        "g.edge('v\\nf(v) = w*c', 'c = 5', dir='back')\n",
        "g.edge('u\\nf(u) = a*b', 'a = 2', dir='back')\n",
        "g.edge('u\\nf(u) = a*b', 'b = 3', dir='back')\n",
        "g.edge('w\\nf(w) = log(d)', 'd = 10', dir='back')\n",
        "g"
      ]
    },
    {
      "cell_type": "markdown",
      "metadata": {
        "id": "qatarcq3_Lir"
      },
      "source": [
        "In case of forward-pass (of backpropagation) we have to replace the variables in the equation:\n",
        "\n",
        "$e = \\underbrace{(a * b)}_\\text{u} + \\underbrace{c * \\underbrace{log(d)}_\\text{w}}_\\text{v} = (2 * 3) + (5 * \\underbrace{log(10)}_\\text{1}) = 11$"
      ]
    },
    {
      "cell_type": "markdown",
      "metadata": {
        "id": "WimzbvD2DSHr"
      },
      "source": [
        "To calculate the backward-pass simply let `torch` do the math and calculate the derivative of **`e`** with respect to the inputs leading to **`e`**"
      ]
    },
    {
      "cell_type": "markdown",
      "metadata": {
        "id": "EFgHAME2xJf5"
      },
      "source": [
        "$\\frac{\\partial e}{\\partial a} = ?$ \\\\\n",
        "$\\frac{\\partial e}{\\partial b} = ?$ \\\\\n",
        "$\\frac{\\partial e}{\\partial c} = ?$ \\\\\n",
        "$\\frac{\\partial e}{\\partial d} = ?$"
      ]
    },
    {
      "cell_type": "code",
      "execution_count": null,
      "metadata": {
        "id": "YY_-zKECAgfp"
      },
      "outputs": [],
      "source": [
        "a = torch.tensor(2., requires_grad=True)\n",
        "b = torch.tensor(3., requires_grad=True)\n",
        "c = torch.tensor(5., requires_grad=True)\n",
        "d = torch.tensor(10., requires_grad=True)\n",
        "\n",
        "# e = (a * b) + c * torch.log10(d)\n",
        "u = a*b\n",
        "w = torch.log10(d)\n",
        "v = c * w\n",
        "e = u + v\n",
        "e\n",
        "\n",
        "u.retain_grad()\n",
        "w.retain_grad()\n",
        "v.retain_grad()\n",
        "\n",
        "e.retain_grad()"
      ]
    },
    {
      "cell_type": "code",
      "execution_count": null,
      "metadata": {
        "colab": {
          "base_uri": "https://localhost:8080/"
        },
        "id": "hmPMZEWzCEFW",
        "outputId": "08b1c6ea-c554-4d48-8fa4-330499864186"
      },
      "outputs": [
        {
          "output_type": "stream",
          "name": "stdout",
          "text": [
            "a:\n",
            "\t is_leaf: True \n",
            "\t grad_fn: None \n",
            "\t grad: 3.0\n",
            "b:\n",
            "\t is_leaf: True \n",
            "\t grad_fn: None \n",
            "\t grad: 2.0\n",
            "c:\n",
            "\t is_leaf: True \n",
            "\t grad_fn: None \n",
            "\t grad: 1.0\n",
            "d:\n",
            "\t is_leaf: True \n",
            "\t grad_fn: None \n",
            "\t grad: 0.21714723110198975\n",
            "\n",
            "u:\n",
            "\t is_leaf: False \n",
            "\t grad_fn: <MulBackward0 object at 0x7826546384c0> \n",
            "\t grad: 1.0\n",
            "w:\n",
            "\t is_leaf: False \n",
            "\t grad_fn: <Log10Backward0 object at 0x78265463b610> \n",
            "\t grad: 5.0\n",
            "v:\n",
            "\t is_leaf: False \n",
            "\t grad_fn: <MulBackward0 object at 0x7826546384c0> \n",
            "\t grad: 1.0\n",
            "\n",
            "e:\n",
            "\t is_leaf: False \n",
            "\t grad_fn: <AddBackward0 object at 0x7826546384c0> \n",
            "\t grad: 1.0\n"
          ]
        }
      ],
      "source": [
        "e.backward()\n",
        "print(f\"a:\\n\\t is_leaf: {a.is_leaf} \\n\\t grad_fn: {a.grad_fn} \\n\\t grad: {a.grad}\")\n",
        "print(f\"b:\\n\\t is_leaf: {b.is_leaf} \\n\\t grad_fn: {b.grad_fn} \\n\\t grad: {b.grad}\")\n",
        "print(f\"c:\\n\\t is_leaf: {c.is_leaf} \\n\\t grad_fn: {c.grad_fn} \\n\\t grad: {c.grad}\")\n",
        "print(f\"d:\\n\\t is_leaf: {d.is_leaf} \\n\\t grad_fn: {d.grad_fn} \\n\\t grad: {d.grad}\")\n",
        "print()\n",
        "print(f\"u:\\n\\t is_leaf: {u.is_leaf} \\n\\t grad_fn: {u.grad_fn} \\n\\t grad: {u.grad}\")\n",
        "print(f\"w:\\n\\t is_leaf: {w.is_leaf} \\n\\t grad_fn: {w.grad_fn} \\n\\t grad: {w.grad}\")\n",
        "print(f\"v:\\n\\t is_leaf: {v.is_leaf} \\n\\t grad_fn: {v.grad_fn} \\n\\t grad: {v.grad}\")\n",
        "print()\n",
        "print(f\"e:\\n\\t is_leaf: {e.is_leaf} \\n\\t grad_fn: {e.grad_fn} \\n\\t grad: {e.grad}\")"
      ]
    },
    {
      "cell_type": "markdown",
      "metadata": {
        "id": "719OsZBxaJY6"
      },
      "source": [
        "The partial derivatives of `u`, `w` and `v` variables:"
      ]
    },
    {
      "cell_type": "code",
      "execution_count": null,
      "metadata": {
        "colab": {
          "base_uri": "https://localhost:8080/",
          "height": 391
        },
        "id": "NsZI1SBuV0C5",
        "outputId": "4bccb319-45a1-4fa6-a825-f9c40a5d9bc3"
      },
      "outputs": [
        {
          "output_type": "display_data",
          "data": {
            "text/plain": [
              "<IPython.core.display.Math object>"
            ],
            "text/latex": "$\\displaystyle \\frac{\\partial e}{\\partial a} = 3.0$"
          },
          "metadata": {}
        },
        {
          "output_type": "stream",
          "name": "stdout",
          "text": [
            "\n"
          ]
        },
        {
          "output_type": "display_data",
          "data": {
            "text/plain": [
              "<IPython.core.display.Math object>"
            ],
            "text/latex": "$\\displaystyle \\frac{\\partial e}{\\partial b} = 2.0$"
          },
          "metadata": {}
        },
        {
          "output_type": "stream",
          "name": "stdout",
          "text": [
            "\n"
          ]
        },
        {
          "output_type": "display_data",
          "data": {
            "text/plain": [
              "<IPython.core.display.Math object>"
            ],
            "text/latex": "$\\displaystyle \\frac{\\partial e}{\\partial c} = 1.0$"
          },
          "metadata": {}
        },
        {
          "output_type": "stream",
          "name": "stdout",
          "text": [
            "\n"
          ]
        },
        {
          "output_type": "display_data",
          "data": {
            "text/plain": [
              "<IPython.core.display.Math object>"
            ],
            "text/latex": "$\\displaystyle \\frac{\\partial e}{\\partial d} = 0.21714723110198975$"
          },
          "metadata": {}
        },
        {
          "output_type": "stream",
          "name": "stdout",
          "text": [
            "\n",
            "\n"
          ]
        },
        {
          "output_type": "display_data",
          "data": {
            "text/plain": [
              "<IPython.core.display.Math object>"
            ],
            "text/latex": "$\\displaystyle \\frac{\\partial e}{\\partial u} = 1.0$"
          },
          "metadata": {}
        },
        {
          "output_type": "stream",
          "name": "stdout",
          "text": [
            "\n"
          ]
        },
        {
          "output_type": "display_data",
          "data": {
            "text/plain": [
              "<IPython.core.display.Math object>"
            ],
            "text/latex": "$\\displaystyle \\frac{\\partial e}{\\partial w} = 5.0$"
          },
          "metadata": {}
        },
        {
          "output_type": "stream",
          "name": "stdout",
          "text": [
            "\n"
          ]
        },
        {
          "output_type": "display_data",
          "data": {
            "text/plain": [
              "<IPython.core.display.Math object>"
            ],
            "text/latex": "$\\displaystyle \\frac{\\partial e}{\\partial v} = 1.0$"
          },
          "metadata": {}
        }
      ],
      "source": [
        "from IPython.display import display, Math\n",
        "display(Math(fr'\\frac{{\\partial e}}{{\\partial a}} = {a.grad.item()}'))\n",
        "print()\n",
        "display(Math(fr'\\frac{{\\partial e}}{{\\partial b}} = {b.grad.item()}'))\n",
        "print()\n",
        "display(Math(fr'\\frac{{\\partial e}}{{\\partial c}} = {c.grad.item()}'))\n",
        "print()\n",
        "display(Math(fr'\\frac{{\\partial e}}{{\\partial d}} = {d.grad.item()}'))\n",
        "print()\n",
        "print()\n",
        "display(Math(fr'\\frac{{\\partial e}}{{\\partial u}} = {u.grad.item()}'))\n",
        "print()\n",
        "display(Math(fr'\\frac{{\\partial e}}{{\\partial w}} = {w.grad.item()}'))\n",
        "print()\n",
        "display(Math(fr'\\frac{{\\partial e}}{{\\partial v}} = {v.grad.item()}'))"
      ]
    },
    {
      "cell_type": "markdown",
      "source": [
        "## Lecture example\n",
        "\n",
        "$J(\\theta) = (\\hat{y} - y)^2,\\quad \\hat{y} = ReLU(\\theta_0 + x\\theta_1),\\quad ReLU(x) = \\begin{cases}0, x \\le 0 \\\\ x, x > 0\\end{cases}$\n",
        "\n",
        "### 1. Create the directed acyclic graph of the operations\n",
        "\n",
        "![Computational graph of ReLU regression loss function. Shows inputs θ0, θ1, x, y flowing through multiplication, addition, ReLU, subtraction, squaring, and output J. Substitution values: x=2, y=1, θ0=5, θ1=-3, α=0.1.](https://gist.githubusercontent.com/CuriousPercibal/6173b113e108d79a09994cef0d3a1078/raw/3d679ff6c1529f3f5403d7c8b16e132c25d03a95/graph.svg)\n",
        "\n",
        "### 2. Substitution\n",
        "\n",
        "$$ x = 2,\\; y = 1, \\qquad \\theta_0 = 5,\\;\\theta_1 = -3, \\qquad \\alpha = 0.1 $$"
      ],
      "metadata": {
        "id": "b5cPuSPVCQLb"
      }
    },
    {
      "cell_type": "code",
      "source": [
        "import torch.nn.functional as F"
      ],
      "metadata": {
        "id": "1Utf4siGLXVs"
      },
      "execution_count": null,
      "outputs": []
    },
    {
      "cell_type": "code",
      "source": [
        "x = torch.tensor([2.], requires_grad=False)\n",
        "y = torch.tensor([1.], requires_grad=False)\n",
        "\n",
        "theta_0 = torch.tensor([5.], requires_grad=True)\n",
        "theta_1 = torch.tensor([-3.], requires_grad=True)\n",
        "\n",
        "alpha = 0.1"
      ],
      "metadata": {
        "id": "LSBkxaULJ4h5"
      },
      "execution_count": null,
      "outputs": []
    },
    {
      "cell_type": "markdown",
      "source": [
        "\\\\\n",
        "$J(\\theta) = (ReLU(\\theta_0 + \\theta_1x) - y)^2$\n",
        "\n"
      ],
      "metadata": {
        "id": "gbJBvleLLgP_"
      }
    },
    {
      "cell_type": "code",
      "source": [
        "model = F.relu(theta_0 + theta_1 * x)\n",
        "J = (model - y)**2"
      ],
      "metadata": {
        "id": "BfF8Vz97LTc1"
      },
      "execution_count": null,
      "outputs": []
    },
    {
      "cell_type": "code",
      "source": [
        "print(f'model prediction: {model.detach().numpy()}, actual: {y.numpy()}')\n",
        "print(f'loss: {J.detach().numpy()}')"
      ],
      "metadata": {
        "colab": {
          "base_uri": "https://localhost:8080/"
        },
        "id": "-WZRYeSYMRZZ",
        "outputId": "ba56e181-4fff-4734-f4b6-b398bb8841ca"
      },
      "execution_count": null,
      "outputs": [
        {
          "output_type": "stream",
          "name": "stdout",
          "text": [
            "model prediction: [0.], actual: [1.]\n",
            "loss: [1.]\n"
          ]
        }
      ]
    },
    {
      "cell_type": "code",
      "source": [
        "print(f'theta_0.grad = {theta_0.grad}')\n",
        "print(f'theta_1.grad = {theta_1.grad}')"
      ],
      "metadata": {
        "colab": {
          "base_uri": "https://localhost:8080/"
        },
        "id": "hsZX1mabPI6b",
        "outputId": "a6db4076-aae3-4215-89fa-d4fdb8a2a8d5"
      },
      "execution_count": null,
      "outputs": [
        {
          "output_type": "stream",
          "name": "stdout",
          "text": [
            "theta_0.grad = None\n",
            "theta_1.grad = None\n"
          ]
        }
      ]
    },
    {
      "cell_type": "code",
      "source": [
        "J.backward()"
      ],
      "metadata": {
        "id": "yWDFiWYyMuia"
      },
      "execution_count": null,
      "outputs": []
    },
    {
      "cell_type": "code",
      "source": [
        "print(f'theta_0.grad = {theta_0.grad}')\n",
        "print(f'theta_1.grad = {theta_1.grad}')"
      ],
      "metadata": {
        "colab": {
          "base_uri": "https://localhost:8080/"
        },
        "id": "ntTCO4ITMwK1",
        "outputId": "844b90be-250d-482e-d844-dc6290a5d158"
      },
      "execution_count": null,
      "outputs": [
        {
          "output_type": "stream",
          "name": "stdout",
          "text": [
            "theta_0.grad = tensor([0.])\n",
            "theta_1.grad = tensor([0.])\n"
          ]
        }
      ]
    },
    {
      "cell_type": "markdown",
      "source": [
        "## Substitution with other values\n",
        "\n",
        "$$ x = 2,\\; y = 1, \\qquad \\theta_0 = 5,\\;\\theta_1 = -1, \\qquad \\alpha = 0.1 $$"
      ],
      "metadata": {
        "id": "u9zA8zsXNOSo"
      }
    },
    {
      "cell_type": "code",
      "source": [
        "x = torch.tensor([2.], requires_grad=False)\n",
        "y = torch.tensor([1.], requires_grad=False)\n",
        "\n",
        "theta_0 = torch.tensor([5.], requires_grad=True)\n",
        "theta_1 = torch.tensor([-1.], requires_grad=True)\n",
        "\n",
        "alpha = 0.1"
      ],
      "metadata": {
        "id": "wPj_f0lQNW9u"
      },
      "execution_count": null,
      "outputs": []
    },
    {
      "cell_type": "code",
      "source": [
        "model = F.relu(theta_0 + theta_1 * x)\n",
        "J = (model - y)**2"
      ],
      "metadata": {
        "id": "uxSOiTFjNaHG"
      },
      "execution_count": null,
      "outputs": []
    },
    {
      "cell_type": "code",
      "source": [
        "print(f'model prediction: {model.detach().numpy()}, actual: {y.numpy()}')\n",
        "print(f'loss: {J.detach().numpy()}')"
      ],
      "metadata": {
        "colab": {
          "base_uri": "https://localhost:8080/"
        },
        "id": "SE8uoHwQOopC",
        "outputId": "2ab03f16-e6b2-44a4-e815-8e83aebd6eff"
      },
      "execution_count": null,
      "outputs": [
        {
          "output_type": "stream",
          "name": "stdout",
          "text": [
            "model prediction: [3.], actual: [1.]\n",
            "loss: [4.]\n"
          ]
        }
      ]
    },
    {
      "cell_type": "code",
      "source": [
        "J.backward()"
      ],
      "metadata": {
        "id": "zTQqTVMcNpNN"
      },
      "execution_count": null,
      "outputs": []
    },
    {
      "cell_type": "code",
      "source": [
        "print(f'theta_0.grad = {theta_0.grad}')\n",
        "print(f'theta_1.grad = {theta_1.grad}')"
      ],
      "metadata": {
        "colab": {
          "base_uri": "https://localhost:8080/"
        },
        "id": "KH8et9RSNq4X",
        "outputId": "59942e73-a01f-41a3-c15f-d4051d96783c"
      },
      "execution_count": null,
      "outputs": [
        {
          "output_type": "stream",
          "name": "stdout",
          "text": [
            "theta_0.grad = tensor([4.])\n",
            "theta_1.grad = tensor([8.])\n"
          ]
        }
      ]
    },
    {
      "cell_type": "markdown",
      "source": [
        "## 3. Update parameters\n",
        "\n",
        "$$\\theta_0 = \\theta_0 - \\alpha * \\frac{\\partial J}{\\partial \\theta_0}$$\n",
        "\n",
        "$$\\theta_1 = \\theta_1 - \\alpha * \\frac{\\partial J}{\\partial \\theta_1}$$"
      ],
      "metadata": {
        "id": "40_y4XgFNwlC"
      }
    },
    {
      "cell_type": "code",
      "source": [
        "theta_0 = theta_0 - alpha * theta_0.grad\n",
        "theta_1 = theta_1 - alpha * theta_1.grad"
      ],
      "metadata": {
        "id": "sHzUeA2eM-X4"
      },
      "execution_count": null,
      "outputs": []
    },
    {
      "cell_type": "code",
      "source": [
        "print(f'theta_0: {theta_0.detach().numpy()}')\n",
        "print(f'theta_1: {theta_1.detach().numpy()}')"
      ],
      "metadata": {
        "colab": {
          "base_uri": "https://localhost:8080/"
        },
        "id": "kjTMe5TWNJfQ",
        "outputId": "e197a08f-4d1b-44c0-ad09-39efc3582875"
      },
      "execution_count": null,
      "outputs": [
        {
          "output_type": "stream",
          "name": "stdout",
          "text": [
            "theta_0: [4.6]\n",
            "theta_1: [-1.8]\n"
          ]
        }
      ]
    },
    {
      "cell_type": "markdown",
      "source": [],
      "metadata": {
        "id": "Z3SeyKVBM5PZ"
      }
    },
    {
      "cell_type": "markdown",
      "source": [
        "\n",
        "### **HOMEWORK (Optional)**\n",
        "\n",
        "- **Exercise 1: Analytical vs. Autograd Gradients**  \n",
        "  Implement the function $f(x) = 3x^2 + 4x + 2$ using PyTorch with $x = 5$ (and with `requires_grad=True`). Use autograd to compute the gradient, and compare the result with the analytical derivative $f'(x) = 6x + 4$.\n",
        "\n",
        "- **Exercise 2: Gradient Accumulation and Resetting**  \n",
        "  Create a tensor $x$ with `requires_grad=True`. In a loop, compute a simple function (e.g., $f(x) = x^2$) several times and call `backward()` without resetting the gradients. Print the accumulated gradients. Then, reset the gradients using `x.grad.zero_()` and observe the difference in gradient accumulation.\n",
        "\n",
        "- **Exercise 3: Detaching Tensors**  \n",
        "  Build a computation graph by performing several operations on a tensor. Detach an intermediate tensor using `.detach()`, continue the computation from that point, and then compute the gradients. Verify that the detached tensor does not contribute to the gradients during backpropagation.\n",
        "\n",
        "- **Exercise 4: Custom Autograd Function**  \n",
        "  Create a custom function by subclassing `torch.autograd.Function` to implement a non-standard operation (for example, a custom squaring function). Define both the `forward` and `backward` methods, and compare the outputs and gradients of your custom function with those of a built-in PyTorch operation.\n",
        "\n",
        "- **Exercise 5: Inspecting the Computation Graph**  \n",
        "  Construct a complex computation graph by combining multiple operations (e.g., addition, multiplication, logarithm). Print the `grad_fn` attribute of the final output to trace the chain of operations, and explain how PyTorch’s autograd mechanism builds and utilizes the computation graph.\n",
        "\n",
        "- **Exercise 6: Numerical Gradient Approximation**  \n",
        "  For a simple function such as $f(x) = \\sin(x)$, compute the gradient at a specific point using PyTorch autograd. Then, approximate the gradient using finite differences (a numerical method) and compare the results."
      ],
      "metadata": {
        "id": "5cmCG1elpG7G"
      }
    }
  ],
  "metadata": {
    "colab": {
      "provenance": [],
      "include_colab_link": true
    },
    "kernelspec": {
      "display_name": "Python 3",
      "name": "python3"
    },
    "language_info": {
      "codemirror_mode": {
        "name": "ipython",
        "version": 3
      },
      "file_extension": ".py",
      "mimetype": "text/x-python",
      "name": "python",
      "nbconvert_exporter": "python",
      "pygments_lexer": "ipython3",
      "version": "3.10.12"
    }
  },
  "nbformat": 4,
  "nbformat_minor": 0
}