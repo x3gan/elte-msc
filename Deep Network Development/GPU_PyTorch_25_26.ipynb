{
  "cells": [
    {
      "cell_type": "markdown",
      "metadata": {
        "id": "view-in-github",
        "colab_type": "text"
      },
      "source": [
        "<a href=\"https://colab.research.google.com/github/x3gan/elte-msc/blob/main/Deep%20Network%20Development/GPU_PyTorch_25_26.ipynb\" target=\"_parent\"><img src=\"https://colab.research.google.com/assets/colab-badge.svg\" alt=\"Open In Colab\"/></a>"
      ]
    },
    {
      "cell_type": "markdown",
      "source": [
        "# **PyTorch GPU Integration**\n",
        "\n",
        "<div style=\"border: 3px solid #222; padding: 16px; border-radius: 10px; background-color: #1c1f26; font-family: 'Helvetica Neue', Helvetica, Arial, sans-serif; color: #e0e0e0;\">\n",
        "  <div style=\"display: flex; align-items: center; gap: 8px; margin-top: 12px;\">\n",
        "    <span style=\"font-size: 24px; color: #ff5555;\">&#128274;</span>\n",
        "    <span style=\"font-size: 16px;\"><strong>Project:</strong> Introduction</span>\n",
        "  </div>\n",
        "  <div style=\"display: flex; align-items: center; gap: 8px; margin-top: 8px;\">\n",
        "    <span style=\"font-size: 20px; color: #ff5555;\">&#128218;</span>\n",
        "    <span style=\"font-size: 16px;\"><strong>Course:</strong> Deep Network Development</span>\n",
        "  </div>\n",
        "  <div style=\"margin-top: 12px; font-size: 14px;\">\n",
        "    <span style=\"font-size: 18px; color: #6e8192;\">&#128100;</span>\n",
        "    <span style=\"font-weight: bold;\"><strong>Authors:</strong></span> Tamás Takács, Imre Molnár (PhD students, Department of Artificial Intelligence, Eötvös Loránd University)\n",
        "  </div>\n",
        "</div>\n",
        "<hr style=\"border: none; border-top: 2px solid #444;\">\n",
        "<br>\n",
        "\n",
        "<img src=\"https://i.ibb.co/QqX9V4N/News-Image-2023-11-22-T133344-154-1.png\" alt=\"News-Image-2023-11-22-T133344-154-1\" border=\"0\">\n",
        "\n",
        "PyTorch provides seamless GPU integration through its native CUDA interface, allowing developers to effortlessly transfer tensors and models to GPU devices for optimized parallel computation. This integration accelerates the training and inference of complex neural networks."
      ],
      "metadata": {
        "id": "pjxwS85WOHmO"
      }
    },
    {
      "cell_type": "code",
      "source": [
        "# @title Roadmap Generator\n",
        "%%capture flowchart_output\n",
        "from graphviz import Digraph\n",
        "\n",
        "def create_gpu_pytorch_flowchart(output_filename='gpu_pytorch_flowchart'):\n",
        "    dot = Digraph(name='GPU_PyTorch', format='png')\n",
        "    dot.attr(rankdir='LR')\n",
        "    dot.attr('node', shape='box', style='filled', fontsize='12', fontname='Arial')\n",
        "\n",
        "    # Nodes (colors: green = easy, yellow = moderate, red = difficult)\n",
        "    dot.node('Setup', 'Import Libraries & Setup\\n(Easy)', fillcolor='#A0E7A0')\n",
        "    dot.node('GPUInfo', 'GPU Monitoring (nvidia-smi)\\n(Easy)', fillcolor='#A0E7A0')\n",
        "    dot.node('TensorOps', 'Tensor Creation, Conversion & Matrix Ops\\n(Moderate)', fillcolor='#F6D49A')\n",
        "    dot.node('Perf', 'Parallel Computations & Performance Benchmarking\\n(Moderate)', fillcolor='#F6D49A')\n",
        "\n",
        "    # Define the pipeline flow\n",
        "    dot.edge('Setup', 'GPUInfo')\n",
        "    dot.edge('GPUInfo', 'TensorOps')\n",
        "    dot.edge('TensorOps', 'Perf')\n",
        "\n",
        "    dot.render(output_filename, view=False)\n",
        "\n",
        "create_gpu_pytorch_flowchart('gpu_pytorch_flowchart')\n"
      ],
      "metadata": {
        "id": "Ot6JM5cYoNuB"
      },
      "execution_count": null,
      "outputs": []
    },
    {
      "cell_type": "markdown",
      "metadata": {
        "id": "bdNSWJY5bDz5"
      },
      "source": [
        "## **Necessary Imports**"
      ]
    },
    {
      "cell_type": "code",
      "execution_count": null,
      "metadata": {
        "id": "I7dPOplNsuFW"
      },
      "outputs": [],
      "source": [
        "import numpy as np\n",
        "import matplotlib.pyplot as plt\n",
        "import torch\n",
        "import time\n",
        "from IPython.display import Image as IMG"
      ]
    },
    {
      "cell_type": "code",
      "source": [
        "IMG('gpu_pytorch_flowchart.png')"
      ],
      "metadata": {
        "colab": {
          "base_uri": "https://localhost:8080/",
          "height": 76
        },
        "id": "i9N7jDi8oOBg",
        "outputId": "7bc0128d-af85-4ab0-ce30-c57f791f9723"
      },
      "execution_count": null,
      "outputs": [
        {
          "output_type": "execute_result",
          "data": {
            "image/png": "[encoded data removed]",
            "text/plain": [
              "<IPython.core.display.Image object>"
            ]
          },
          "metadata": {},
          "execution_count": 5
        }
      ]
    },
    {
      "cell_type": "markdown",
      "metadata": {
        "id": "-nWpfouUcB14"
      },
      "source": [
        "## **GPU**\n",
        "\n",
        "Basic GPU monitoring informations that can be useful. `!nvidia-smi` (NVIDIA Management Library) can be used to get a summary table. Unfortunately, it cannot be called directly, so other libraries must be used to monitor the gpu in the program. Currently, it only works stably on Nvidia GPUs. To take advantage of the GPU, Cuda Toolkit \"https://developer.nvidia.com/cuda-downloads\" needs to be installed first."
      ]
    },
    {
      "cell_type": "code",
      "execution_count": null,
      "metadata": {
        "colab": {
          "base_uri": "https://localhost:8080/"
        },
        "id": "QDsvC2QO9Iqb",
        "outputId": "aa780a56-830e-45bc-f2f6-beada5c3ba35"
      },
      "outputs": [
        {
          "output_type": "stream",
          "name": "stdout",
          "text": [
            "Tue Aug 13 04:02:36 2024       \n",
            "+---------------------------------------------------------------------------------------+\n",
            "| NVIDIA-SMI 535.104.05             Driver Version: 535.104.05   CUDA Version: 12.2     |\n",
            "|-----------------------------------------+----------------------+----------------------+\n",
            "| GPU  Name                 Persistence-M | Bus-Id        Disp.A | Volatile Uncorr. ECC |\n",
            "| Fan  Temp   Perf          Pwr:Usage/Cap |         Memory-Usage | GPU-Util  Compute M. |\n",
            "|                                         |                      |               MIG M. |\n",
            "|=========================================+======================+======================|\n",
            "|   0  Tesla T4                       Off | 00000000:00:04.0 Off |                    0 |\n",
            "| N/A   43C    P8               9W /  70W |      0MiB / 15360MiB |      0%      Default |\n",
            "|                                         |                      |                  N/A |\n",
            "+-----------------------------------------+----------------------+----------------------+\n",
            "                                                                                         \n",
            "+---------------------------------------------------------------------------------------+\n",
            "| Processes:                                                                            |\n",
            "|  GPU   GI   CI        PID   Type   Process name                            GPU Memory |\n",
            "|        ID   ID                                                             Usage      |\n",
            "|=======================================================================================|\n",
            "|  No running processes found                                                           |\n",
            "+---------------------------------------------------------------------------------------+\n"
          ]
        }
      ],
      "source": [
        "!nvidia-smi"
      ]
    },
    {
      "cell_type": "markdown",
      "metadata": {
        "id": "z0OBWa8n9Iqc"
      },
      "source": [
        "## **PyTorch**\n",
        "\n",
        "At its core PyTorch provides two features:\n",
        "1.   An n-dimensional Tensor, similar to NumPy but switches easily between CPU and GPUs.\n",
        "2.   Automatic differentiation for building and training (neural) networks.\n",
        "\n",
        "\n",
        "Let's take a look on some common features: \\\\\n",
        "- `numpy.ndarray` vs `torch.tensor` \\\\\n",
        "- `numpy.ones` vs `torch.ones` \\\\\n",
        "- `numpy.zeros` vs `torch.zeros` \\\\\n",
        "- `numpy.copy()` vs `torch.clone()` \\\\\n",
        "- `.reshape` vs `.view` (numpy vs torch) \\\\\n",
        "- `numpy.linalg.inv()` vs `torch.inverse()` \\\\\n",
        "- `torch.from_numpy()` \\\\\n",
        "- `torch.where()` \\\\"
      ]
    },
    {
      "cell_type": "markdown",
      "metadata": {
        "id": "k4qtg39L9Iqd"
      },
      "source": [
        "### **Numpy vs Torch**\n",
        "\n",
        "Two additional parameters can be specified for the Torch tensor. The device can be 'cpu' or cuda, where the number can be selected. The need for a gradient increases its space requirements but is necessary for training."
      ]
    },
    {
      "cell_type": "code",
      "execution_count": null,
      "metadata": {
        "id": "Gxb8xnqob7T6"
      },
      "outputs": [],
      "source": [
        "#install cudatoolkit\n",
        "my_tensor = torch.tensor(data=[2.5], dtype=torch.float64, device='cuda:0', requires_grad=True)"
      ]
    },
    {
      "cell_type": "code",
      "execution_count": null,
      "metadata": {
        "colab": {
          "base_uri": "https://localhost:8080/"
        },
        "id": "__RAN0qQdd6W",
        "outputId": "d51ab261-e941-4207-f0c7-3f927e1fb13b"
      },
      "outputs": [
        {
          "output_type": "stream",
          "name": "stdout",
          "text": [
            "numpy_array type: <class 'numpy.ndarray'>\n",
            "tensor type: <class 'torch.Tensor'>\n"
          ]
        }
      ],
      "source": [
        "numpy_array = np.array([[1.0,3.2,0],[3.3,4.1,0]], dtype=np.float16)\n",
        "print(f'numpy_array type: {type(numpy_array)}')\n",
        "tensor = torch.from_numpy(numpy_array)\n",
        "print(f'tensor type: {type(tensor)}')"
      ]
    },
    {
      "cell_type": "code",
      "execution_count": null,
      "metadata": {
        "colab": {
          "base_uri": "https://localhost:8080/"
        },
        "id": "Zh5SNhSEbNa8",
        "outputId": "c8115ef0-ed74-4df3-9a54-1ede837b7ae8"
      },
      "outputs": [
        {
          "output_type": "stream",
          "name": "stdout",
          "text": [
            "torch.Size([2, 3])\n",
            "2\n",
            "2\n"
          ]
        }
      ],
      "source": [
        "print(tensor.shape)\n",
        "print(tensor.size(0)) # same as .shape and you can specify the dimension\n",
        "print(tensor.dim())"
      ]
    },
    {
      "cell_type": "markdown",
      "metadata": {
        "id": "QV7zEy1jvHx4"
      },
      "source": [
        "#### **Difference in execution time - numpy vs pytorch**\n",
        "\n",
        "The comparison should consider the conversion time and the time of data movement to/from the GPU memory. Because of the copy times, when possible it is worth initializing variables directly on the GPU.\n",
        "\n",
        "- `%%time`-total execution time of the cell,\n",
        "- `%time` -next line execution time, only for Win64 (Win32 chase=0)\n",
        "- Compiler time: shows up if>0.1 s\n",
        "- Wall time: time diff.(kernel start and end)\n",
        "- user: code execution time (maybe more than wall time in paralell case)\n",
        "- sys: pre and after processes (memory allocation...)\n",
        "- CPU time is user time + sys time\n"
      ]
    },
    {
      "cell_type": "code",
      "execution_count": null,
      "metadata": {
        "id": "W0a0YxwVu1Hu"
      },
      "outputs": [],
      "source": [
        "matrix_1 = np.random.randn(5000,5000)\n",
        "matrix_2 = np.random.randn(5000,5000)"
      ]
    },
    {
      "cell_type": "code",
      "execution_count": null,
      "metadata": {
        "colab": {
          "base_uri": "https://localhost:8080/"
        },
        "id": "CDprs9j9snOJ",
        "outputId": "feb257e9-940e-418d-8429-834708e961db"
      },
      "outputs": [
        {
          "output_type": "stream",
          "name": "stdout",
          "text": [
            "[ -47.99112421  -87.82726155  -55.99136678 ...  -77.7400173   -26.83048607\n",
            " -226.77892049]\n",
            "CPU times: user 7.69 s, sys: 170 ms, total: 7.86 s\n",
            "Wall time: 4.26 s\n"
          ]
        }
      ],
      "source": [
        "%%time\n",
        "res_numpy = np.dot(matrix_1, matrix_2)\n",
        "print(res_numpy[0])"
      ]
    },
    {
      "cell_type": "code",
      "execution_count": null,
      "metadata": {
        "id": "DGqAGwCn9Iqf"
      },
      "outputs": [],
      "source": [
        "torch_mx_1 = torch.from_numpy(matrix_1).float().cuda()\n",
        "torch_mx_2 = torch.from_numpy(matrix_2).float().cuda()"
      ]
    },
    {
      "cell_type": "code",
      "execution_count": null,
      "metadata": {
        "colab": {
          "base_uri": "https://localhost:8080/"
        },
        "id": "A7sy9zduu5_y",
        "outputId": "7a1b4b93-2c1c-4561-cfc5-4da78bfdc915"
      },
      "outputs": [
        {
          "output_type": "stream",
          "name": "stdout",
          "text": [
            "tensor([ -47.9911,  -87.8272,  -55.9913,  ...,  -77.7399,  -26.8305,\n",
            "        -226.7791], device='cuda:0')\n",
            "CPU times: user 158 ms, sys: 80.9 ms, total: 238 ms\n",
            "Wall time: 635 ms\n"
          ]
        }
      ],
      "source": [
        "%%time\n",
        "# torch_mx_1 = torch.from_numpy(matrix_1).float().cuda()\n",
        "# torch_mx_2 = torch.from_numpy(matrix_2).float().cuda()\n",
        "res_pytorch = torch.mm(torch_mx_1, torch_mx_2)\n",
        "print(res_pytorch[0])"
      ]
    },
    {
      "cell_type": "markdown",
      "metadata": {
        "id": "B-bzsh-dMBXg"
      },
      "source": [
        "#### **Matrix inverse, determinant and transpose**\n",
        "\n",
        "Try different types and devices and check accuracy and speed."
      ]
    },
    {
      "cell_type": "code",
      "execution_count": null,
      "metadata": {
        "colab": {
          "base_uri": "https://localhost:8080/"
        },
        "id": "12FSvHfktvbQ",
        "outputId": "66d2f1b8-3fa3-41d6-c82d-dcafb3c409df"
      },
      "outputs": [
        {
          "output_type": "stream",
          "name": "stdout",
          "text": [
            "numpy inverse:\n",
            " [[-1.   0.6]\n",
            " [ 1.  -0.4]]\n",
            "torch inverse:\n",
            " tensor([[-1.0000,  0.6000],\n",
            "        [ 1.0000, -0.4000]], device='cuda:0')\n",
            "\n",
            "numpy determinant:\n",
            " -5.0\n",
            "torch determinant:\n",
            " -4.999999523162842\n",
            "\n",
            "numpy transpose:\n",
            " [[2. 5.]\n",
            " [3. 5.]]\n",
            "torch transpose:\n",
            " tensor([[2., 5.],\n",
            "        [3., 5.]], device='cuda:0')\n",
            "\n"
          ]
        }
      ],
      "source": [
        "n = np.array([[2.,3.],[5.,5.]], dtype=np.float32)\n",
        "p = torch.tensor([[2.,3.],[5.,5.]], dtype=torch.float32, device='cuda:0')\n",
        "\n",
        "print(f'numpy inverse:\\n {np.linalg.inv(n)}')\n",
        "print(f'torch inverse:\\n {p.inverse()}')\n",
        "print()\n",
        "\n",
        "print(f'numpy determinant:\\n {np.linalg.det(n)}')\n",
        "print(f'torch determinant:\\n {torch.det(p)}')\n",
        "print()\n",
        "\n",
        "print(f'numpy transpose:\\n {n.T}')\n",
        "print(f'torch transpose:\\n {p.t()}')\n",
        "print()\n"
      ]
    },
    {
      "cell_type": "markdown",
      "metadata": {
        "id": "ga-jSUrU9Iqh"
      },
      "source": [
        "#### **Reshape**"
      ]
    },
    {
      "cell_type": "code",
      "execution_count": null,
      "metadata": {
        "colab": {
          "base_uri": "https://localhost:8080/"
        },
        "id": "-UnchCs2TPp0",
        "outputId": "d75be054-488b-4ecb-be61-e07cb1b859c0"
      },
      "outputs": [
        {
          "output_type": "stream",
          "name": "stdout",
          "text": [
            "[[[2. 3.]\n",
            "  [0. 2.]\n",
            "  [5. 5.]\n",
            "  [3. 2.]]]\n",
            "tensor([[[2.],\n",
            "         [3.],\n",
            "         [0.],\n",
            "         [2.]],\n",
            "\n",
            "        [[5.],\n",
            "         [5.],\n",
            "         [3.],\n",
            "         [2.]]], device='cuda:0')\n",
            "tensor([[[2.],\n",
            "         [3.]],\n",
            "\n",
            "        [[0.],\n",
            "         [2.]],\n",
            "\n",
            "        [[5.],\n",
            "         [5.]],\n",
            "\n",
            "        [[3.],\n",
            "         [2.]]], device='cuda:0')\n"
          ]
        },
        {
          "output_type": "execute_result",
          "data": {
            "text/plain": [
              "tensor([[2., 3., 0., 2.],\n",
              "        [5., 5., 3., 2.]], device='cuda:0')"
            ]
          },
          "metadata": {},
          "execution_count": 11
        }
      ],
      "source": [
        "n = np.array([[2.,3.,0.,2.],[5.,5.,3.,2.]])\n",
        "p = torch.tensor([[2.,3.,0.,2.],[5.,5.,3.,2.]], device='cuda:0')\n",
        "\n",
        "print(n.reshape((1,4,2)))\n",
        "print(p.view((2,4,1)))\n",
        "print(p.reshape((4,2,1)))\n",
        "p"
      ]
    },
    {
      "cell_type": "markdown",
      "metadata": {
        "id": "-l8FZiFG9Iqh"
      },
      "source": [
        "####  **Parallel calculations**\n",
        "\n",
        "GPU calculations do not take CPU time.\n",
        "\n",
        "A simple parallel task where values smaller than 0 are replaced by pi"
      ]
    },
    {
      "cell_type": "code",
      "execution_count": null,
      "metadata": {
        "colab": {
          "base_uri": "https://localhost:8080/"
        },
        "id": "7secYlOnTgFT",
        "outputId": "7110000e-966f-4298-b97d-5b193afc2c94"
      },
      "outputs": [
        {
          "output_type": "stream",
          "name": "stderr",
          "text": [
            "<ipython-input-12-3db1e3d59094>:5: UserWarning: The torch.cuda.*DtypeTensor constructors are no longer recommended. It's best to use methods such as torch.tensor(data, dtype=*, device='cuda') to create tensors. (Triggered internally at ../torch/csrc/tensor/python_tensor.cpp:78.)\n",
            "  x = torch.cuda.HalfTensor(S2)\n"
          ]
        },
        {
          "output_type": "execute_result",
          "data": {
            "text/plain": [
              "tensor([[ 1.1543, -0.0870, -0.6357,  ...,  0.7729, -1.8184,  1.0146],\n",
              "        [-0.0368,  1.7432, -1.7773,  ..., -0.7139, -0.6562,  0.3630],\n",
              "        [ 0.0455, -0.8540,  0.1711,  ..., -0.2925, -1.8477,  0.0518],\n",
              "        ...,\n",
              "        [ 1.6680,  0.2681, -0.1237,  ..., -1.0850, -1.3447,  0.4875],\n",
              "        [ 1.4766, -0.9688, -0.0275,  ...,  0.3203,  0.1554, -0.1052],\n",
              "        [-0.3711, -1.0449, -0.2446,  ...,  0.4783, -0.4148,  0.4751]],\n",
              "       device='cuda:0', dtype=torch.float16)"
            ]
          },
          "metadata": {},
          "execution_count": 12
        }
      ],
      "source": [
        "x_torch = torch.randn(10000, 10000, dtype=torch.double, device='cuda:0')\n",
        "x_numpy = np.random.randn(10000,10000)\n",
        "# directly on GPU\n",
        "S2 = torch.Size((100, 100))\n",
        "x = torch.cuda.HalfTensor(S2)\n",
        "torch.randn(S2, out=x)"
      ]
    },
    {
      "cell_type": "code",
      "execution_count": null,
      "metadata": {
        "colab": {
          "base_uri": "https://localhost:8080/"
        },
        "id": "KD-ITH9I9Iqi",
        "outputId": "e3431095-e4ab-4c7c-fde8-641d37036531"
      },
      "outputs": [
        {
          "output_type": "stream",
          "name": "stdout",
          "text": [
            "GPU calculation time pytorch:  0.050916194915771484  s\n",
            "CPU calculation time numpy:  0.7665483951568604  s\n",
            "CPU times: user 619 ms, sys: 163 ms, total: 783 ms\n",
            "Wall time: 820 ms\n"
          ]
        }
      ],
      "source": [
        "%%time\n",
        "tstart = time.time()\n",
        "x_torch=torch.where(x_torch > 0, x_torch, torch.pi)\n",
        "thalf = time.time()\n",
        "x_numpy=np.where(x_numpy > 0, x_numpy, np.pi)\n",
        "tend = time.time()\n",
        "print('GPU calculation time pytorch: ',thalf-tstart, ' s')\n",
        "print('CPU calculation time numpy: ',tend-thalf, ' s')"
      ]
    },
    {
      "cell_type": "markdown",
      "source": [
        "### **HOMEWORK (Optional)**\n",
        "\n",
        "- **Exercise 1: Matrix Multiplication Benchmark**  \n",
        "  Create two large random matrices (e.g., 10,000 x 10,000) using both numpy (on CPU) and PyTorch (on GPU). Perform matrix multiplication on both and measure the execution times. Compare the results and explain why the GPU implementation is faster.\n",
        "\n",
        "- **Exercise 2: Conditional Element-wise Operations**  \n",
        "  Generate a large array/tensor of random numbers. Using `np.where` (on CPU) and `torch.where` (on GPU), replace all negative values with a constant (e.g., π). Measure and compare the performance of these operations, and discuss the advantages of GPU acceleration.\n",
        "\n",
        "- **Exercise 3: Data Transfer Overhead**  \n",
        "  Create a small tensor on the CPU, transfer it to the GPU, and then back to the CPU. Measure the time taken for these transfers. Analyze the overhead involved in data transfers between CPU and GPU and discuss strategies to minimize this overhead.\n",
        "\n",
        "- **Exercise 4: Broadcasting and Vectorized Operations**  \n",
        "  Create two large arrays/tensors and perform element-wise arithmetic operations (such as addition, subtraction, and multiplication) using broadcasting in numpy (on CPU) and PyTorch (on GPU). Compare the execution times and explain how broadcasting and vectorization contribute to performance improvements on the GPU.\n",
        "\n",
        "- **Exercise 5: GPU Memory Management**  \n",
        "  Write a program that creates multiple large PyTorch tensors on the GPU and performs various operations on them. Experiment with `torch.cuda.empty_cache()` to free unused memory and observe how effective memory management can improve overall performance in GPU computations."
      ],
      "metadata": {
        "id": "mlfFDmOsi1zE"
      }
    }
  ],
  "metadata": {
    "accelerator": "GPU",
    "colab": {
      "gpuType": "T4",
      "provenance": [],
      "include_colab_link": true
    },
    "kernelspec": {
      "display_name": "Python 3",
      "name": "python3"
    },
    "language_info": {
      "codemirror_mode": {
        "name": "ipython",
        "version": 3
      },
      "file_extension": ".py",
      "mimetype": "text/x-python",
      "name": "python",
      "nbconvert_exporter": "python",
      "pygments_lexer": "ipython3",
      "version": "3.11.4"
    }
  },
  "nbformat": 4,
  "nbformat_minor": 0
}